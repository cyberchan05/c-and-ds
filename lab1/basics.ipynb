{
  "nbformat": 4,
  "nbformat_minor": 0,
  "metadata": {
    "colab": {
      "name": "Part1_TensorFlow.ipynb",
      "provenance": [],
      "collapsed_sections": [
        "WBk0ZDWY-ff8"
      ]
    },
    "kernelspec": {
      "name": "python3",
      "display_name": "Python 3"
    },
    "accelerator": "GPU"
  },
  "cells": [
    {
      "cell_type": "markdown",
      "metadata": {
        "id": "WBk0ZDWY-ff8"
      },
      "source": [
        "<table align=\"center\">\n",
        "  <td align=\"center\"><a target=\"_blank\" href=\"http://introtodeeplearning.com\">\n",
        "        <img src=\"https://i.ibb.co/Jr88sn2/mit.png\" style=\"padding-bottom:5px;\" />\n",
        "      Visit MIT Deep Learning</a></td>\n",
        "  <td align=\"center\"><a target=\"_blank\" href=\"https://colab.research.google.com/github/aamini/introtodeeplearning/blob/2023/lab1/Part1_TensorFlow.ipynb\">\n",
        "        <img src=\"https://i.ibb.co/2P3SLwK/colab.png\"  style=\"padding-bottom:5px;\" />Run in Google Colab</a></td>\n",
        "  <td align=\"center\"><a target=\"_blank\" href=\"https://github.com/aamini/introtodeeplearning/blob/2023/lab1/Part1_TensorFlow.ipynb\">\n",
        "        <img src=\"https://i.ibb.co/xfJbPmL/github.png\"  height=\"70px\" style=\"padding-bottom:5px;\"  />View Source on GitHub</a></td>\n",
        "</table>\n",
        "\n",
        "\n",
        "# Copyright Information\n"
      ]
    },
    {
      "cell_type": "code",
      "metadata": {
        "id": "3eI6DUic-6jo"
      },
      "source": [
        "# Copyright 2023 MIT Introduction to Deep Learning. All Rights Reserved.\n",
        "#\n",
        "# Licensed under the MIT License. You may not use this file except in compliance\n",
        "# with the License. Use and/or modification of this code outside of MIT Introduction\n",
        "# to Deep Learning must reference:\n",
        "#\n",
        "# © MIT Introduction to Deep Learning\n",
        "# http://introtodeeplearning.com\n",
        "#"
      ],
      "execution_count": null,
      "outputs": []
    },
    {
      "cell_type": "markdown",
      "metadata": {
        "id": "57knM8jrYZ2t"
      },
      "source": [
        "# Lab 1: Intro to TensorFlow and Music Generation with RNNs\n",
        "\n",
        "In this lab, you'll get exposure to using TensorFlow and learn how it can be used for solving deep learning tasks. Go through the code and run each cell. Along the way, you'll encounter several ***TODO*** blocks -- follow the instructions to fill them out before running those cells and continuing.\n",
        "\n",
        "\n",
        "# Part 1: Intro to TensorFlow\n",
        "\n",
        "## 0.1 Install TensorFlow\n",
        "\n",
        "TensorFlow is a software library extensively used in machine learning. Here we'll learn how computations are represented and how to define a simple neural network in TensorFlow. For all the labs in Introduction to Deep Learning 2023, we'll be using the latest version of TensorFlow, TensorFlow 2, which affords great flexibility and the ability to imperatively execute operations, just like in Python. You'll notice that TensorFlow 2 is quite similar to Python in its syntax and imperative execution. Let's install TensorFlow and a couple of dependencies.\n"
      ]
    },
    {
      "cell_type": "code",
      "metadata": {
        "id": "LkaimNJfYZ2w",
        "outputId": "0bcde38a-bc96-492b-c879-dbcdb2a1086c",
        "colab": {
          "base_uri": "https://localhost:8080/"
        }
      },
      "source": [
        "%tensorflow_version 2.x\n",
        "import tensorflow as tf\n",
        "\n",
        "# Download and import the MIT Introduction to Deep Learning package\n",
        "!pip install mitdeeplearning\n",
        "import mitdeeplearning as mdl\n",
        "\n",
        "import numpy as np\n",
        "import matplotlib.pyplot as plt"
      ],
      "execution_count": 1,
      "outputs": [
        {
          "output_type": "stream",
          "name": "stdout",
          "text": [
            "Colab only includes TensorFlow 2.x; %tensorflow_version has no effect.\n",
            "Collecting mitdeeplearning\n",
            "  Downloading mitdeeplearning-0.3.0.tar.gz (2.1 MB)\n",
            "\u001b[2K     \u001b[90m━━━━━━━━━━━━━━━━━━━━━━━━━━━━━━━━━━━━━━━━\u001b[0m \u001b[32m2.1/2.1 MB\u001b[0m \u001b[31m31.5 MB/s\u001b[0m eta \u001b[36m0:00:00\u001b[0m\n",
            "\u001b[?25h  Preparing metadata (setup.py) ... \u001b[?25l\u001b[?25hdone\n",
            "Requirement already satisfied: numpy in /usr/local/lib/python3.10/dist-packages (from mitdeeplearning) (1.23.5)\n",
            "Requirement already satisfied: regex in /usr/local/lib/python3.10/dist-packages (from mitdeeplearning) (2023.6.3)\n",
            "Requirement already satisfied: tqdm in /usr/local/lib/python3.10/dist-packages (from mitdeeplearning) (4.66.1)\n",
            "Requirement already satisfied: gym in /usr/local/lib/python3.10/dist-packages (from mitdeeplearning) (0.25.2)\n",
            "Requirement already satisfied: cloudpickle>=1.2.0 in /usr/local/lib/python3.10/dist-packages (from gym->mitdeeplearning) (2.2.1)\n",
            "Requirement already satisfied: gym-notices>=0.0.4 in /usr/local/lib/python3.10/dist-packages (from gym->mitdeeplearning) (0.0.8)\n",
            "Building wheels for collected packages: mitdeeplearning\n",
            "  Building wheel for mitdeeplearning (setup.py) ... \u001b[?25l\u001b[?25hdone\n",
            "  Created wheel for mitdeeplearning: filename=mitdeeplearning-0.3.0-py3-none-any.whl size=2117303 sha256=92283b0874d24f0b15d61f3605f7ec05f0ee9db7e32f9269a60af88c54667d94\n",
            "  Stored in directory: /root/.cache/pip/wheels/9c/9f/b5/0e31f83bc60a83625e37429f923934e26802d0d68cf3ef3216\n",
            "Successfully built mitdeeplearning\n",
            "Installing collected packages: mitdeeplearning\n",
            "Successfully installed mitdeeplearning-0.3.0\n"
          ]
        }
      ]
    },
    {
      "cell_type": "markdown",
      "metadata": {
        "id": "2QNMcdP4m3Vs"
      },
      "source": [
        "## 1.1 Why is TensorFlow called TensorFlow?\n",
        "\n",
        "TensorFlow is called 'TensorFlow' because it handles the flow (node/mathematical operation) of Tensors, which are data structures that you can think of as multi-dimensional arrays. Tensors are represented as n-dimensional arrays of base dataypes such as a string or integer -- they provide a way to generalize vectors and matrices to higher dimensions.\n",
        "\n",
        "The ```shape``` of a Tensor defines its number of dimensions and the size of each dimension. The ```rank``` of a Tensor provides the number of dimensions (n-dimensions) -- you can also think of this as the Tensor's order or degree.\n",
        "\n",
        "Let's first look at 0-d Tensors, of which a scalar is an example:"
      ]
    },
    {
      "cell_type": "code",
      "metadata": {
        "id": "tFxztZQInlAB",
        "outputId": "c8b4ad97-066f-4a0a-ca49-18306d2ca32f",
        "colab": {
          "base_uri": "https://localhost:8080/"
        }
      },
      "source": [
        "sport = tf.constant(\"Tennis\", tf.string)\n",
        "number = tf.constant(1.41421356237, tf.float64)\n",
        "\n",
        "print(\"`sport` is a {}-d Tensor\".format(tf.rank(sport).numpy()))\n",
        "print(\"`number` is a {}-d Tensor\".format(tf.rank(number).numpy()))"
      ],
      "execution_count": 2,
      "outputs": [
        {
          "output_type": "stream",
          "name": "stdout",
          "text": [
            "`sport` is a 0-d Tensor\n",
            "`number` is a 0-d Tensor\n"
          ]
        }
      ]
    },
    {
      "cell_type": "markdown",
      "metadata": {
        "id": "-dljcPUcoJZ6"
      },
      "source": [
        "Vectors and lists can be used to create 1-d Tensors:"
      ]
    },
    {
      "cell_type": "code",
      "metadata": {
        "id": "oaHXABe8oPcO",
        "outputId": "41f04bd5-b14e-42ee-b2e8-9ecc5fcec9f8",
        "colab": {
          "base_uri": "https://localhost:8080/"
        }
      },
      "source": [
        "sports = tf.constant([\"Tennis\", \"Basketball\"], tf.string)\n",
        "numbers = tf.constant([3.141592, 1.414213, 2.71821], tf.float64)\n",
        "\n",
        "print(\"`sports` is a {}-d Tensor with shape: {}\".format(tf.rank(sports).numpy(), tf.shape(sports)))\n",
        "print(\"`numbers` is a {}-d Tensor with shape: {}\".format(tf.rank(numbers).numpy(), tf.shape(numbers)))"
      ],
      "execution_count": 3,
      "outputs": [
        {
          "output_type": "stream",
          "name": "stdout",
          "text": [
            "`sports` is a 1-d Tensor with shape: [2]\n",
            "`numbers` is a 1-d Tensor with shape: [3]\n"
          ]
        }
      ]
    },
    {
      "cell_type": "markdown",
      "metadata": {
        "id": "gvffwkvtodLP"
      },
      "source": [
        "Next we consider creating 2-d (i.e., matrices) and higher-rank Tensors. For examples, in future labs involving image processing and computer vision, we will use 4-d Tensors. Here the dimensions correspond to the number of example images in our batch, image height, image width, and the number of color channels."
      ]
    },
    {
      "cell_type": "code",
      "metadata": {
        "id": "tFeBBe1IouS3",
        "outputId": "7695982f-a26f-4daa-f450-52b7eab25cc1",
        "colab": {
          "base_uri": "https://localhost:8080/"
        }
      },
      "source": [
        "### Defining higher-order Tensors ###\n",
        "\n",
        "'''TODO: Define a 2-d Tensor'''\n",
        "matrix = tf.constant([[1,2,3],[4,5,6]])\n",
        "\n",
        "assert isinstance(matrix, tf.Tensor), \"matrix must be a tf Tensor object\"\n",
        "assert tf.rank(matrix).numpy() == 2"
      ],
      "execution_count": 4,
      "outputs": [
        {
          "output_type": "stream",
          "name": "stderr",
          "text": [
            "/usr/local/lib/python3.10/dist-packages/ipykernel/ipkernel.py:283: DeprecationWarning: `should_run_async` will not call `transform_cell` automatically in the future. Please pass the result to `transformed_cell` argument and any exception that happen during thetransform in `preprocessing_exc_tuple` in IPython 7.17 and above.\n",
            "  and should_run_async(code)\n"
          ]
        }
      ]
    },
    {
      "cell_type": "code",
      "metadata": {
        "id": "Zv1fTn_Ya_cz"
      },
      "source": [
        "'''TODO: Define a 4-d Tensor.'''\n",
        "# Use tf.zeros to initialize a 4-d Tensor of zeros with size 10 x 256 x 256 x 3.\n",
        "#   You can think of this as 10 images where each image is RGB 256 x 256.\n",
        "images = tf.zeros([10,256,256,3])\n",
        "\n",
        "assert isinstance(images, tf.Tensor), \"matrix must be a tf Tensor object\"\n",
        "assert tf.rank(images).numpy() == 4, \"matrix must be of rank 4\"\n",
        "assert tf.shape(images).numpy().tolist() == [10, 256, 256, 3], \"matrix is incorrect shape\""
      ],
      "execution_count": 5,
      "outputs": []
    },
    {
      "cell_type": "markdown",
      "metadata": {
        "id": "wkaCDOGapMyl"
      },
      "source": [
        "As you have seen, the ```shape``` of a Tensor provides the number of elements in each Tensor dimension. The ```shape``` is quite useful, and we'll use it often. You can also use slicing to access subtensors within a higher-rank Tensor:"
      ]
    },
    {
      "cell_type": "code",
      "metadata": {
        "id": "FhaufyObuLEG",
        "outputId": "0ffed01d-e76a-4823-cbcf-5a2d2a661b22",
        "colab": {
          "base_uri": "https://localhost:8080/"
        }
      },
      "source": [
        "row_vector = matrix[1]\n",
        "column_vector = matrix[:,1]\n",
        "scalar = matrix[0, 1]\n",
        "\n",
        "print(\"`row_vector`: {}\".format(row_vector.numpy()))\n",
        "print(\"`column_vector`: {}\".format(column_vector.numpy()))\n",
        "print(\"`scalar`: {}\".format(scalar.numpy()))"
      ],
      "execution_count": 6,
      "outputs": [
        {
          "output_type": "stream",
          "name": "stdout",
          "text": [
            "`row_vector`: [4 5 6]\n",
            "`column_vector`: [2 5]\n",
            "`scalar`: 2\n"
          ]
        }
      ]
    },
    {
      "cell_type": "markdown",
      "metadata": {
        "id": "iD3VO-LZYZ2z"
      },
      "source": [
        "## 1.2 Computations on Tensors\n",
        "\n",
        "A convenient way to think about and visualize computations in TensorFlow is in terms of graphs. We can define this graph in terms of Tensors, which hold data, and the mathematical operations that act on these Tensors in some order. Let's look at a simple example, and define this computation using TensorFlow:\n",
        "\n",
        "![alt text](https://raw.githubusercontent.com/aamini/introtodeeplearning/master/lab1/img/add-graph.png)"
      ]
    },
    {
      "cell_type": "code",
      "metadata": {
        "id": "X_YJrZsxYZ2z",
        "outputId": "13dd121e-266f-4c41-c670-bc124a60213c",
        "colab": {
          "base_uri": "https://localhost:8080/"
        }
      },
      "source": [
        "# Create the nodes in the graph, and initialize values\n",
        "a = tf.constant(15)\n",
        "b = tf.constant(61)\n",
        "\n",
        "# Add them!\n",
        "c1 = tf.add(a,b)\n",
        "c2 = a + b # TensorFlow overrides the \"+\" operation so that it is able to act on Tensors\n",
        "print(c1)\n",
        "print(c2)"
      ],
      "execution_count": 7,
      "outputs": [
        {
          "output_type": "stream",
          "name": "stdout",
          "text": [
            "tf.Tensor(76, shape=(), dtype=int32)\n",
            "tf.Tensor(76, shape=(), dtype=int32)\n"
          ]
        }
      ]
    },
    {
      "cell_type": "markdown",
      "metadata": {
        "id": "Mbfv_QOiYZ23"
      },
      "source": [
        "Notice how we've created a computation graph consisting of TensorFlow operations, and how  the output is a Tensor with value 76 -- we've just created a computation graph consisting of operations, and it's executed them and given us back the result.\n",
        "\n",
        "Now let's consider a slightly more complicated example:\n",
        "\n",
        "![alt text](https://raw.githubusercontent.com/aamini/introtodeeplearning/master/lab1/img/computation-graph.png)\n",
        "\n",
        "Here, we take two inputs, `a, b`, and compute an output `e`. Each node in the graph represents an operation that takes some input, does some computation, and passes its output to another node.\n",
        "\n",
        "Let's define a simple function in TensorFlow to construct this computation function:"
      ]
    },
    {
      "cell_type": "code",
      "metadata": {
        "scrolled": true,
        "id": "PJnfzpWyYZ23"
      },
      "source": [
        "### Defining Tensor computations ###\n",
        "\n",
        "# Construct a simple computation function\n",
        "def func(a,b):\n",
        "  '''TODO: Define the operation for c, d, e (use tf.add, tf.subtract, tf.multiply).'''\n",
        "  c = tf.add(a,b)\n",
        "  d = tf.subtract(b,1)\n",
        "  e = tf.multiply(c,d)\n",
        "  return e"
      ],
      "execution_count": 10,
      "outputs": []
    },
    {
      "cell_type": "markdown",
      "metadata": {
        "id": "AwrRfDMS2-oy"
      },
      "source": [
        "Now, we can call this function to execute the computation graph given some inputs `a,b`:"
      ]
    },
    {
      "cell_type": "code",
      "metadata": {
        "id": "pnwsf8w2uF7p",
        "outputId": "7d0eb929-c6c7-469e-df5a-730cd43f7df6",
        "colab": {
          "base_uri": "https://localhost:8080/"
        }
      },
      "source": [
        "# Consider example values for a,b\n",
        "a, b = 1.5, 2.5\n",
        "# Execute the computation\n",
        "e_out = func(a,b)\n",
        "print(e_out)"
      ],
      "execution_count": 11,
      "outputs": [
        {
          "output_type": "stream",
          "name": "stdout",
          "text": [
            "tf.Tensor(6.0, shape=(), dtype=float32)\n"
          ]
        }
      ]
    },
    {
      "cell_type": "markdown",
      "metadata": {
        "id": "6HqgUIUhYZ29"
      },
      "source": [
        "Notice how our output is a Tensor with value defined by the output of the computation, and that the output has no shape as it is a single scalar value."
      ]
    },
    {
      "cell_type": "markdown",
      "metadata": {
        "id": "1h4o9Bb0YZ29"
      },
      "source": [
        "## 1.3 Neural networks in TensorFlow\n",
        "We can also define neural networks in TensorFlow. TensorFlow uses a high-level API called [Keras](https://www.tensorflow.org/guide/keras) that provides a powerful, intuitive framework for building and training deep learning models.\n",
        "\n",
        "Let's first consider the example of a simple perceptron defined by just one dense layer: $ y = \\sigma(Wx + b)$, where $W$ represents a matrix of weights, $b$ is a bias, $x$ is the input, $\\sigma$ is the sigmoid activation function, and $y$ is the output. We can also visualize this operation using a graph:\n",
        "\n",
        "![alt text](https://raw.githubusercontent.com/aamini/introtodeeplearning/master/lab1/img/computation-graph-2.png)\n",
        "\n",
        "Tensors can flow through abstract types called [```Layers```](https://www.tensorflow.org/api_docs/python/tf/keras/layers/Layer) -- the building blocks of neural networks. ```Layers``` implement common neural networks operations, and are used to update weights, compute losses, and define inter-layer connectivity. We will first define a ```Layer``` to implement the simple perceptron defined above."
      ]
    },
    {
      "cell_type": "code",
      "metadata": {
        "id": "HutbJk-1kHPh",
        "outputId": "3cb23bd5-fb0b-4024-d83e-5036a744b789",
        "colab": {
          "base_uri": "https://localhost:8080/",
          "height": 529
        }
      },
      "source": [
        "### Defining a network Layer ###\n",
        "\n",
        "# n_output_nodes: number of output nodes\n",
        "# input_shape: shape of the input\n",
        "# x: input to the layer\n",
        "\n",
        "class OurDenseLayer(tf.keras.layers.Layer):\n",
        "  def __init__(self, n_output_nodes):\n",
        "    super(OurDenseLayer, self).__init__()\n",
        "    self.n_output_nodes = n_output_nodes\n",
        "\n",
        "  def build(self, input_shape):\n",
        "    d = int(input_shape[-1])\n",
        "    # Define and initialize parameters: a weight matrix W and bias b\n",
        "    # Note that parameter initialization is random!\n",
        "    self.W = self.add_weight(\"weight\", shape=[d, self.n_output_nodes]) # note the dimensionality\n",
        "    self.b = self.add_weight(\"bias\", shape=[1, self.n_output_nodes]) # note the dimensionality\n",
        "\n",
        "  def call(self, x):\n",
        "    '''TODO: define the operation for z (hint: use tf.matmul)'''\n",
        "    z = tf.matmul(x,self.W) + self.b\n",
        "\n",
        "    '''TODO: define the operation for out (hint: use tf.sigmoid)'''\n",
        "    y = tf.sigmoid(z)\n",
        "    return y\n",
        "\n",
        "# Since layer parameters are initialized randomly, we will set a random seed for reproducibility\n",
        "tf.random.set_seed(1)\n",
        "layer = OurDenseLayer(3)\n",
        "layer.build((1,2))\n",
        "x_input = tf.constant([[1,2.]], shape=(1,2))\n",
        "y = layer.call(x_input)\n",
        "\n",
        "# test the output!\n",
        "print(y.numpy())\n",
        "mdl.lab1.test_custom_dense_layer_output(y)"
      ],
      "execution_count": 14,
      "outputs": [
        {
          "output_type": "stream",
          "name": "stdout",
          "text": [
            "[[0.7704561  0.831771   0.15114948]]\n"
          ]
        },
        {
          "output_type": "error",
          "ename": "AssertionError",
          "evalue": "ignored",
          "traceback": [
            "\u001b[0;31m---------------------------------------------------------------------------\u001b[0m",
            "\u001b[0;31mAssertionError\u001b[0m                            Traceback (most recent call last)",
            "\u001b[0;32m<ipython-input-14-3acf80215470>\u001b[0m in \u001b[0;36m<cell line: 36>\u001b[0;34m()\u001b[0m\n\u001b[1;32m     34\u001b[0m \u001b[0;31m# test the output!\u001b[0m\u001b[0;34m\u001b[0m\u001b[0;34m\u001b[0m\u001b[0m\n\u001b[1;32m     35\u001b[0m \u001b[0mprint\u001b[0m\u001b[0;34m(\u001b[0m\u001b[0my\u001b[0m\u001b[0;34m.\u001b[0m\u001b[0mnumpy\u001b[0m\u001b[0;34m(\u001b[0m\u001b[0;34m)\u001b[0m\u001b[0;34m)\u001b[0m\u001b[0;34m\u001b[0m\u001b[0;34m\u001b[0m\u001b[0m\n\u001b[0;32m---> 36\u001b[0;31m \u001b[0mmdl\u001b[0m\u001b[0;34m.\u001b[0m\u001b[0mlab1\u001b[0m\u001b[0;34m.\u001b[0m\u001b[0mtest_custom_dense_layer_output\u001b[0m\u001b[0;34m(\u001b[0m\u001b[0my\u001b[0m\u001b[0;34m)\u001b[0m\u001b[0;34m\u001b[0m\u001b[0;34m\u001b[0m\u001b[0m\n\u001b[0m",
            "\u001b[0;32m/usr/local/lib/python3.10/dist-packages/mitdeeplearning/lab1.py\u001b[0m in \u001b[0;36mtest_custom_dense_layer_output\u001b[0;34m(y)\u001b[0m\n\u001b[1;32m     83\u001b[0m     \u001b[0mtrue_y\u001b[0m \u001b[0;34m=\u001b[0m \u001b[0mnp\u001b[0m\u001b[0;34m.\u001b[0m\u001b[0marray\u001b[0m\u001b[0;34m(\u001b[0m\u001b[0;34m[\u001b[0m\u001b[0;34m[\u001b[0m\u001b[0;36m0.2697859\u001b[0m\u001b[0;34m,\u001b[0m  \u001b[0;36m0.45750418\u001b[0m\u001b[0;34m,\u001b[0m \u001b[0;36m0.66536945\u001b[0m\u001b[0;34m]\u001b[0m\u001b[0;34m]\u001b[0m\u001b[0;34m,\u001b[0m\u001b[0mdtype\u001b[0m\u001b[0;34m=\u001b[0m\u001b[0;34m'float32'\u001b[0m\u001b[0;34m)\u001b[0m\u001b[0;34m\u001b[0m\u001b[0;34m\u001b[0m\u001b[0m\n\u001b[1;32m     84\u001b[0m     \u001b[0;32massert\u001b[0m \u001b[0mtf\u001b[0m\u001b[0;34m.\u001b[0m\u001b[0mshape\u001b[0m\u001b[0;34m(\u001b[0m\u001b[0my\u001b[0m\u001b[0;34m)\u001b[0m\u001b[0;34m.\u001b[0m\u001b[0mnumpy\u001b[0m\u001b[0;34m(\u001b[0m\u001b[0;34m)\u001b[0m\u001b[0;34m.\u001b[0m\u001b[0mtolist\u001b[0m\u001b[0;34m(\u001b[0m\u001b[0;34m)\u001b[0m \u001b[0;34m==\u001b[0m \u001b[0mlist\u001b[0m\u001b[0;34m(\u001b[0m\u001b[0mtrue_y\u001b[0m\u001b[0;34m.\u001b[0m\u001b[0mshape\u001b[0m\u001b[0;34m)\u001b[0m\u001b[0;34m,\u001b[0m \u001b[0;34m\"[FAIL] output is of incorrect shape. expected {} but got {}\"\u001b[0m\u001b[0;34m.\u001b[0m\u001b[0mformat\u001b[0m\u001b[0;34m(\u001b[0m\u001b[0mtrue_y\u001b[0m\u001b[0;34m.\u001b[0m\u001b[0mshape\u001b[0m\u001b[0;34m,\u001b[0m \u001b[0my\u001b[0m\u001b[0;34m.\u001b[0m\u001b[0mnumpy\u001b[0m\u001b[0;34m(\u001b[0m\u001b[0;34m)\u001b[0m\u001b[0;34m.\u001b[0m\u001b[0mshape\u001b[0m\u001b[0;34m)\u001b[0m\u001b[0;34m\u001b[0m\u001b[0;34m\u001b[0m\u001b[0m\n\u001b[0;32m---> 85\u001b[0;31m     \u001b[0mnp\u001b[0m\u001b[0;34m.\u001b[0m\u001b[0mtesting\u001b[0m\u001b[0;34m.\u001b[0m\u001b[0massert_almost_equal\u001b[0m\u001b[0;34m(\u001b[0m\u001b[0my\u001b[0m\u001b[0;34m.\u001b[0m\u001b[0mnumpy\u001b[0m\u001b[0;34m(\u001b[0m\u001b[0;34m)\u001b[0m\u001b[0;34m,\u001b[0m \u001b[0mtrue_y\u001b[0m\u001b[0;34m,\u001b[0m \u001b[0mdecimal\u001b[0m\u001b[0;34m=\u001b[0m\u001b[0;36m7\u001b[0m\u001b[0;34m,\u001b[0m \u001b[0merr_msg\u001b[0m\u001b[0;34m=\u001b[0m\u001b[0;34m\"[FAIL] output is of incorrect value. expected {} but got {}\"\u001b[0m\u001b[0;34m.\u001b[0m\u001b[0mformat\u001b[0m\u001b[0;34m(\u001b[0m\u001b[0my\u001b[0m\u001b[0;34m.\u001b[0m\u001b[0mnumpy\u001b[0m\u001b[0;34m(\u001b[0m\u001b[0;34m)\u001b[0m\u001b[0;34m,\u001b[0m \u001b[0mtrue_y\u001b[0m\u001b[0;34m)\u001b[0m\u001b[0;34m,\u001b[0m \u001b[0mverbose\u001b[0m\u001b[0;34m=\u001b[0m\u001b[0;32mTrue\u001b[0m\u001b[0;34m)\u001b[0m\u001b[0;34m\u001b[0m\u001b[0;34m\u001b[0m\u001b[0m\n\u001b[0m\u001b[1;32m     86\u001b[0m     \u001b[0mprint\u001b[0m\u001b[0;34m(\u001b[0m\u001b[0;34m\"[PASS] test_custom_dense_layer_output\"\u001b[0m\u001b[0;34m)\u001b[0m\u001b[0;34m\u001b[0m\u001b[0;34m\u001b[0m\u001b[0m\n\u001b[1;32m     87\u001b[0m     \u001b[0;32mreturn\u001b[0m \u001b[0;32mTrue\u001b[0m\u001b[0;34m\u001b[0m\u001b[0;34m\u001b[0m\u001b[0m\n",
            "    \u001b[0;31m[... skipping hidden 2 frame]\u001b[0m\n",
            "\u001b[0;32m/usr/local/lib/python3.10/dist-packages/numpy/testing/_private/utils.py\u001b[0m in \u001b[0;36massert_array_compare\u001b[0;34m(comparison, x, y, err_msg, verbose, header, precision, equal_nan, equal_inf)\u001b[0m\n\u001b[1;32m    842\u001b[0m                                 \u001b[0mverbose\u001b[0m\u001b[0;34m=\u001b[0m\u001b[0mverbose\u001b[0m\u001b[0;34m,\u001b[0m \u001b[0mheader\u001b[0m\u001b[0;34m=\u001b[0m\u001b[0mheader\u001b[0m\u001b[0;34m,\u001b[0m\u001b[0;34m\u001b[0m\u001b[0;34m\u001b[0m\u001b[0m\n\u001b[1;32m    843\u001b[0m                                 names=('x', 'y'), precision=precision)\n\u001b[0;32m--> 844\u001b[0;31m             \u001b[0;32mraise\u001b[0m \u001b[0mAssertionError\u001b[0m\u001b[0;34m(\u001b[0m\u001b[0mmsg\u001b[0m\u001b[0;34m)\u001b[0m\u001b[0;34m\u001b[0m\u001b[0;34m\u001b[0m\u001b[0m\n\u001b[0m\u001b[1;32m    845\u001b[0m     \u001b[0;32mexcept\u001b[0m \u001b[0mValueError\u001b[0m\u001b[0;34m:\u001b[0m\u001b[0;34m\u001b[0m\u001b[0;34m\u001b[0m\u001b[0m\n\u001b[1;32m    846\u001b[0m         \u001b[0;32mimport\u001b[0m \u001b[0mtraceback\u001b[0m\u001b[0;34m\u001b[0m\u001b[0;34m\u001b[0m\u001b[0m\n",
            "\u001b[0;31mAssertionError\u001b[0m: \nArrays are not almost equal to 7 decimals\n[FAIL] output is of incorrect value. expected [[0.7704561  0.831771   0.15114948]] but got [[0.2697859  0.45750418 0.66536945]]\nMismatched elements: 3 / 3 (100%)\nMax absolute difference: 0.51422\nMax relative difference: 1.8558055\n x: array([[0.7704561, 0.831771 , 0.1511495]], dtype=float32)\n y: array([[0.2697859, 0.4575042, 0.6653695]], dtype=float32)"
          ]
        }
      ]
    },
    {
      "cell_type": "markdown",
      "metadata": {
        "id": "Jt1FgM7qYZ3D"
      },
      "source": [
        "Conveniently, TensorFlow has defined a number of ```Layers``` that are commonly used in neural networks, for example a [```Dense```](https://www.tensorflow.org/api_docs/python/tf/keras/layers/Dense?version=stable). Now, instead of using a single ```Layer``` to define our simple neural network, we'll use the  [`Sequential`](https://www.tensorflow.org/versions/r2.0/api_docs/python/tf/keras/Sequential) model from Keras and a single [`Dense` ](https://www.tensorflow.org/versions/r2.0/api_docs/python/tf/keras/layers/Dense) layer to define our network. With the `Sequential` API, you can readily create neural networks by stacking together layers like building blocks."
      ]
    },
    {
      "cell_type": "code",
      "metadata": {
        "id": "7WXTpmoL6TDz"
      },
      "source": [
        "### Defining a neural network using the Sequential API ###\n",
        "\n",
        "# Import relevant packages\n",
        "from tensorflow.keras import Sequential\n",
        "from tensorflow.keras.layers import Dense\n",
        "\n",
        "# Define the number of outputs\n",
        "n_output_nodes = 5\n",
        "\n",
        "# First define the model\n",
        "model = Sequential()\n",
        "\n",
        "'''TODO: Define a dense (fully connected) layer to compute z'''\n",
        "# Remember: dense layers are defined by the parameters W and b!\n",
        "# You can read more about the initialization of W and b in the TF documentation :)\n",
        "# https://www.tensorflow.org/api_docs/python/tf/keras/layers/Dense?version=stable\n",
        "dense_layer = Dense(n_output_nodes,activation = 'sigmoid',input_shape = (1,2))\n",
        "\n",
        "# Add the dense layer to the model\n",
        "model.add(dense_layer)\n"
      ],
      "execution_count": 22,
      "outputs": []
    },
    {
      "cell_type": "code",
      "source": [
        "import numpy as np"
      ],
      "metadata": {
        "id": "vtfisM3CSQKY",
        "outputId": "967ce826-a861-4d50-ac32-67a41ffccf8d",
        "colab": {
          "base_uri": "https://localhost:8080/"
        }
      },
      "execution_count": 20,
      "outputs": [
        {
          "output_type": "stream",
          "name": "stderr",
          "text": [
            "/usr/local/lib/python3.10/dist-packages/ipykernel/ipkernel.py:283: DeprecationWarning: `should_run_async` will not call `transform_cell` automatically in the future. Please pass the result to `transformed_cell` argument and any exception that happen during thetransform in `preprocessing_exc_tuple` in IPython 7.17 and above.\n",
            "  and should_run_async(code)\n"
          ]
        }
      ]
    },
    {
      "cell_type": "markdown",
      "metadata": {
        "id": "HDGcwYfUyR-U"
      },
      "source": [
        "That's it! We've defined our model using the Sequential API. Now, we can test it out using an example input:"
      ]
    },
    {
      "cell_type": "code",
      "metadata": {
        "id": "sg23OczByRDb",
        "outputId": "12d20dce-ac69-47e3-acc8-ea617e497780",
        "colab": {
          "base_uri": "https://localhost:8080/"
        }
      },
      "source": [
        "# Test model with example input\n",
        "x_input = tf.constant([[1,2.]], shape=(1,2))\n",
        "\n",
        "'''TODO: feed input into the model and predict the output!'''\n",
        "model_output = model(np.expand_dims(x_input,0))\n",
        "print(model_output)"
      ],
      "execution_count": 23,
      "outputs": [
        {
          "output_type": "stream",
          "name": "stdout",
          "text": [
            "tf.Tensor([[[0.6218117  0.5026781  0.6178627  0.7515756  0.09949023]]], shape=(1, 1, 5), dtype=float32)\n"
          ]
        }
      ]
    },
    {
      "cell_type": "markdown",
      "metadata": {
        "id": "596NvsOOtr9F"
      },
      "source": [
        "In addition to defining models using the `Sequential` API, we can also define neural networks by directly subclassing the [`Model`](https://www.tensorflow.org/api_docs/python/tf/keras/Model?version=stable) class, which groups layers together to enable model training and inference. The `Model` class captures what we refer to as a \"model\" or as a \"network\". Using Subclassing, we can create a class for our model, and then define the forward pass through the network using the `call` function. Subclassing affords the flexibility to define custom layers, custom training loops, custom activation functions, and custom models. Let's define the same neural network as above now using Subclassing rather than the `Sequential` model."
      ]
    },
    {
      "cell_type": "code",
      "metadata": {
        "id": "K4aCflPVyViD"
      },
      "source": [
        "### Defining a model using subclassing ###\n",
        "\n",
        "from tensorflow.keras import Model\n",
        "from tensorflow.keras.layers import Dense\n",
        "\n",
        "class SubclassModel(tf.keras.Model):\n",
        "\n",
        "  # In __init__, we define the Model's layers\n",
        "  def __init__(self, n_output_nodes):\n",
        "    super(SubclassModel, self).__init__()\n",
        "    '''TODO: Our model consists of a single Dense layer. Define this layer.'''\n",
        "    self.dense_layer = Dense(n_output_nodes,activation = 'sigmoid',input_shape = (1,2))\n",
        "\n",
        "  # In the call function, we define the Model's forward pass.\n",
        "  def call(self, inputs):\n",
        "    return self.dense_layer(inputs)"
      ],
      "execution_count": 24,
      "outputs": []
    },
    {
      "cell_type": "markdown",
      "metadata": {
        "id": "U0-lwHDk4irB"
      },
      "source": [
        "Just like the model we built using the `Sequential` API, let's test out our `SubclassModel` using an example input.\n",
        "\n"
      ]
    },
    {
      "cell_type": "code",
      "metadata": {
        "id": "LhB34RA-4gXb",
        "outputId": "c10ad699-359c-43fd-847a-500a32ccf714",
        "colab": {
          "base_uri": "https://localhost:8080/"
        }
      },
      "source": [
        "n_output_nodes = 3\n",
        "model = SubclassModel(n_output_nodes)\n",
        "\n",
        "x_input = tf.constant([[1,2.]], shape=(1,2))\n",
        "\n",
        "print(model.call(x_input))"
      ],
      "execution_count": 25,
      "outputs": [
        {
          "output_type": "stream",
          "name": "stdout",
          "text": [
            "tf.Tensor([[0.8009697  0.63890076 0.26435685]], shape=(1, 3), dtype=float32)\n"
          ]
        }
      ]
    },
    {
      "cell_type": "markdown",
      "metadata": {
        "id": "HTIFMJLAzsyE"
      },
      "source": [
        "Importantly, Subclassing affords us a lot of flexibility to define custom models. For example, we can use boolean arguments in the `call` function to specify different network behaviors, for example different behaviors during training and inference. Let's suppose under some instances we want our network to simply output the input, without any perturbation. We define a boolean argument `isidentity` to control this behavior:"
      ]
    },
    {
      "cell_type": "code",
      "metadata": {
        "id": "P7jzGX5D1xT5"
      },
      "source": [
        "### Defining a model using subclassing and specifying custom behavior ###\n",
        "\n",
        "from tensorflow.keras import Model\n",
        "from tensorflow.keras.layers import Dense\n",
        "\n",
        "class IdentityModel(tf.keras.Model):\n",
        "\n",
        "  # As before, in __init__ we define the Model's layers\n",
        "  # Since our desired behavior involves the forward pass, this part is unchanged\n",
        "  def __init__(self, n_output_nodes):\n",
        "    super(IdentityModel, self).__init__()\n",
        "    self.dense_layer = tf.keras.layers.Dense(n_output_nodes, activation='sigmoid')\n",
        "\n",
        "  '''TODO: Implement the behavior where the network outputs the input, unchanged, under control of the isidentity argument.'''\n",
        "  def call(self, inputs, isidentity=False):\n",
        "    x = self.dense_layer(inputs)\n",
        "    if isidentity: # TODO\n",
        "      return inputs # TODO\n",
        "    return x\n",
        "\n",
        "  # def call(self, inputs, isidentity=False):\n",
        "    # TODO"
      ],
      "execution_count": 32,
      "outputs": []
    },
    {
      "cell_type": "markdown",
      "metadata": {
        "id": "Ku4rcCGx5T3y"
      },
      "source": [
        "Let's test this behavior:"
      ]
    },
    {
      "cell_type": "code",
      "metadata": {
        "id": "NzC0mgbk5dp2",
        "outputId": "efe31dde-9d83-40a2-d369-796f9e288338",
        "colab": {
          "base_uri": "https://localhost:8080/"
        }
      },
      "source": [
        "\n",
        "n_output_nodes = 3\n",
        "model = IdentityModel(n_output_nodes)\n",
        "\n",
        "x_input = tf.constant([[1,2.]], shape=(1,2))\n",
        "'''TODO: pass the input into the model and call with and without the input identity option.'''\n",
        "out_activate = model.call(x_input) # TODO\n",
        "# out_activate = # TODO\n",
        "out_identity = model.call(x_input, isidentity=True) # TODO\n",
        "# out_identity = # TODO\n",
        "\n",
        "print(\"Network output with activation: {}; network identity output: {}\".format(out_activate.numpy(), out_identity.numpy()))\n"
      ],
      "execution_count": 33,
      "outputs": [
        {
          "output_type": "stream",
          "name": "stdout",
          "text": [
            "Network output with activation: [[0.06144171 0.2964472  0.5909889 ]]; network identity output: [[1. 2.]]\n"
          ]
        }
      ]
    },
    {
      "cell_type": "markdown",
      "metadata": {
        "id": "7V1dEqdk6VI5"
      },
      "source": [
        "Now that we have learned how to define `Layers` as well as neural networks in TensorFlow using both the `Sequential` and Subclassing APIs, we're ready to turn our attention to how to actually implement network training with backpropagation."
      ]
    },
    {
      "cell_type": "markdown",
      "metadata": {
        "id": "dQwDhKn8kbO2"
      },
      "source": [
        "## 1.4 Automatic differentiation in TensorFlow\n",
        "\n",
        "[Automatic differentiation](https://en.wikipedia.org/wiki/Automatic_differentiation)\n",
        "is one of the most important parts of TensorFlow and is the backbone of training with\n",
        "[backpropagation](https://en.wikipedia.org/wiki/Backpropagation). We will use the TensorFlow GradientTape [`tf.GradientTape`](https://www.tensorflow.org/api_docs/python/tf/GradientTape?version=stable) to trace operations for computing gradients later.\n",
        "\n",
        "When a forward pass is made through the network, all forward-pass operations get recorded to a \"tape\"; then, to compute the gradient, the tape is played backwards. By default, the tape is discarded after it is played backwards; this means that a particular `tf.GradientTape` can only\n",
        "compute one gradient, and subsequent calls throw a runtime error. However, we can compute multiple gradients over the same computation by creating a ```persistent``` gradient tape.\n",
        "\n",
        "First, we will look at how we can compute gradients using GradientTape and access them for computation. We define the simple function $ y = x^2$ and compute the gradient:"
      ]
    },
    {
      "cell_type": "code",
      "metadata": {
        "id": "tdkqk8pw5yJM"
      },
      "source": [
        "### Gradient computation with GradientTape ###\n",
        "\n",
        "# y = x^2\n",
        "# Example: x = 3.0\n",
        "x = tf.Variable(3.0)\n",
        "\n",
        "# Initiate the gradient tape\n",
        "with tf.GradientTape() as tape:\n",
        "  # Define the function\n",
        "  y = x * x\n",
        "# Access the gradient -- derivative of y with respect to x\n",
        "dy_dx = tape.gradient(y, x)\n",
        "\n",
        "assert dy_dx.numpy() == 6.0"
      ],
      "execution_count": 34,
      "outputs": []
    },
    {
      "cell_type": "markdown",
      "metadata": {
        "id": "JhU5metS5xF3"
      },
      "source": [
        "In training neural networks, we use differentiation and stochastic gradient descent (SGD) to optimize a loss function. Now that we have a sense of how `GradientTape` can be used to compute and access derivatives, we will look at an example where we use automatic differentiation and SGD to find the minimum of $L=(x-x_f)^2$. Here $x_f$ is a variable for a desired value we are trying to optimize for; $L$ represents a loss that we are trying to  minimize. While we can clearly solve this problem analytically ($x_{min}=x_f$), considering how we can compute this using `GradientTape` sets us up nicely for future labs where we use gradient descent to optimize entire neural network losses."
      ]
    },
    {
      "cell_type": "code",
      "metadata": {
        "attributes": {
          "classes": [
            "py"
          ],
          "id": ""
        },
        "id": "7g1yWiSXqEf-",
        "outputId": "76a2f1fa-9ec1-4031-9034-6cfa50872948",
        "colab": {
          "base_uri": "https://localhost:8080/",
          "height": 1000
        }
      },
      "source": [
        "### Function minimization with automatic differentiation and SGD ###\n",
        "\n",
        "# Initialize a random value for our initial x\n",
        "x = tf.Variable([tf.random.normal([1])])\n",
        "print(\"Initializing x={}\".format(x.numpy()))\n",
        "\n",
        "learning_rate = 1e-2 # learning rate for SGD\n",
        "print(\"initial lr {}\".format(learning_rate))\n",
        "history = []\n",
        "# Define the target value\n",
        "x_f = 4\n",
        "\n",
        "# We will run SGD for a number of iterations. At each iteration, we compute the loss,\n",
        "#   compute the derivative of the loss with respect to x, and perform the SGD update.\n",
        "for i in range(500):\n",
        "  with tf.GradientTape() as tape:\n",
        "    '''TODO: define the loss as described above'''\n",
        "    loss = (x - x_f)*(x - x_f)# TODO\n",
        "\n",
        "  # loss minimization using gradient tape\n",
        "  grad = tape.gradient(loss, x)\n",
        "  print(grad)\n",
        "   # compute the derivative of the loss with respect to x\n",
        "  new_x = (x - learning_rate*grad) # sgd update\n",
        "  print(new_x)\n",
        "  x.assign(new_x) # update the value of x\n",
        "  history.append(x.numpy()[0])\n",
        "\n",
        "# Plot the evolution of x as we optimize towards x_f!\n",
        "plt.plot(history)\n",
        "plt.plot([0, 500],[x_f,x_f])\n",
        "plt.legend(('Predicted', 'True'))\n",
        "plt.xlabel('Iteration')\n",
        "plt.ylabel('x value')"
      ],
      "execution_count": 44,
      "outputs": [
        {
          "output_type": "stream",
          "name": "stderr",
          "text": [
            "/usr/local/lib/python3.10/dist-packages/ipykernel/ipkernel.py:283: DeprecationWarning: `should_run_async` will not call `transform_cell` automatically in the future. Please pass the result to `transformed_cell` argument and any exception that happen during thetransform in `preprocessing_exc_tuple` in IPython 7.17 and above.\n",
            "  and should_run_async(code)\n"
          ]
        },
        {
          "output_type": "stream",
          "name": "stdout",
          "text": [
            "Initializing x=[[-0.39749843]]\n",
            "initial lr 0.01\n",
            "tf.Tensor([[-8.794997]], shape=(1, 1), dtype=float32)\n",
            "tf.Tensor([[-0.30954847]], shape=(1, 1), dtype=float32)\n",
            "tf.Tensor([[-8.619097]], shape=(1, 1), dtype=float32)\n",
            "tf.Tensor([[-0.2233575]], shape=(1, 1), dtype=float32)\n",
            "tf.Tensor([[-8.446715]], shape=(1, 1), dtype=float32)\n",
            "tf.Tensor([[-0.13889036]], shape=(1, 1), dtype=float32)\n",
            "tf.Tensor([[-8.277781]], shape=(1, 1), dtype=float32)\n",
            "tf.Tensor([[-0.05611255]], shape=(1, 1), dtype=float32)\n",
            "tf.Tensor([[-8.112226]], shape=(1, 1), dtype=float32)\n",
            "tf.Tensor([[0.02500971]], shape=(1, 1), dtype=float32)\n",
            "tf.Tensor([[-7.9499807]], shape=(1, 1), dtype=float32)\n",
            "tf.Tensor([[0.10450951]], shape=(1, 1), dtype=float32)\n",
            "tf.Tensor([[-7.790981]], shape=(1, 1), dtype=float32)\n",
            "tf.Tensor([[0.18241931]], shape=(1, 1), dtype=float32)\n",
            "tf.Tensor([[-7.6351614]], shape=(1, 1), dtype=float32)\n",
            "tf.Tensor([[0.25877094]], shape=(1, 1), dtype=float32)\n",
            "tf.Tensor([[-7.482458]], shape=(1, 1), dtype=float32)\n",
            "tf.Tensor([[0.3335955]], shape=(1, 1), dtype=float32)\n",
            "tf.Tensor([[-7.332809]], shape=(1, 1), dtype=float32)\n",
            "tf.Tensor([[0.4069236]], shape=(1, 1), dtype=float32)\n",
            "tf.Tensor([[-7.186153]], shape=(1, 1), dtype=float32)\n",
            "tf.Tensor([[0.47878513]], shape=(1, 1), dtype=float32)\n",
            "tf.Tensor([[-7.04243]], shape=(1, 1), dtype=float32)\n",
            "tf.Tensor([[0.5492094]], shape=(1, 1), dtype=float32)\n",
            "tf.Tensor([[-6.9015813]], shape=(1, 1), dtype=float32)\n",
            "tf.Tensor([[0.6182252]], shape=(1, 1), dtype=float32)\n",
            "tf.Tensor([[-6.76355]], shape=(1, 1), dtype=float32)\n",
            "tf.Tensor([[0.6858607]], shape=(1, 1), dtype=float32)\n",
            "tf.Tensor([[-6.6282787]], shape=(1, 1), dtype=float32)\n",
            "tf.Tensor([[0.7521435]], shape=(1, 1), dtype=float32)\n",
            "tf.Tensor([[-6.495713]], shape=(1, 1), dtype=float32)\n",
            "tf.Tensor([[0.81710064]], shape=(1, 1), dtype=float32)\n",
            "tf.Tensor([[-6.365799]], shape=(1, 1), dtype=float32)\n",
            "tf.Tensor([[0.88075864]], shape=(1, 1), dtype=float32)\n",
            "tf.Tensor([[-6.2384825]], shape=(1, 1), dtype=float32)\n",
            "tf.Tensor([[0.9431435]], shape=(1, 1), dtype=float32)\n",
            "tf.Tensor([[-6.1137133]], shape=(1, 1), dtype=float32)\n",
            "tf.Tensor([[1.0042806]], shape=(1, 1), dtype=float32)\n",
            "tf.Tensor([[-5.991439]], shape=(1, 1), dtype=float32)\n",
            "tf.Tensor([[1.0641949]], shape=(1, 1), dtype=float32)\n",
            "tf.Tensor([[-5.87161]], shape=(1, 1), dtype=float32)\n",
            "tf.Tensor([[1.122911]], shape=(1, 1), dtype=float32)\n",
            "tf.Tensor([[-5.754178]], shape=(1, 1), dtype=float32)\n",
            "tf.Tensor([[1.1804527]], shape=(1, 1), dtype=float32)\n",
            "tf.Tensor([[-5.6390944]], shape=(1, 1), dtype=float32)\n",
            "tf.Tensor([[1.2368436]], shape=(1, 1), dtype=float32)\n",
            "tf.Tensor([[-5.526313]], shape=(1, 1), dtype=float32)\n",
            "tf.Tensor([[1.2921067]], shape=(1, 1), dtype=float32)\n",
            "tf.Tensor([[-5.4157867]], shape=(1, 1), dtype=float32)\n",
            "tf.Tensor([[1.3462646]], shape=(1, 1), dtype=float32)\n",
            "tf.Tensor([[-5.307471]], shape=(1, 1), dtype=float32)\n",
            "tf.Tensor([[1.3993393]], shape=(1, 1), dtype=float32)\n",
            "tf.Tensor([[-5.2013216]], shape=(1, 1), dtype=float32)\n",
            "tf.Tensor([[1.4513525]], shape=(1, 1), dtype=float32)\n",
            "tf.Tensor([[-5.097295]], shape=(1, 1), dtype=float32)\n",
            "tf.Tensor([[1.5023254]], shape=(1, 1), dtype=float32)\n",
            "tf.Tensor([[-4.995349]], shape=(1, 1), dtype=float32)\n",
            "tf.Tensor([[1.5522789]], shape=(1, 1), dtype=float32)\n",
            "tf.Tensor([[-4.895442]], shape=(1, 1), dtype=float32)\n",
            "tf.Tensor([[1.6012332]], shape=(1, 1), dtype=float32)\n",
            "tf.Tensor([[-4.7975335]], shape=(1, 1), dtype=float32)\n",
            "tf.Tensor([[1.6492085]], shape=(1, 1), dtype=float32)\n",
            "tf.Tensor([[-4.701583]], shape=(1, 1), dtype=float32)\n",
            "tf.Tensor([[1.6962243]], shape=(1, 1), dtype=float32)\n",
            "tf.Tensor([[-4.6075516]], shape=(1, 1), dtype=float32)\n",
            "tf.Tensor([[1.7422998]], shape=(1, 1), dtype=float32)\n",
            "tf.Tensor([[-4.5154004]], shape=(1, 1), dtype=float32)\n",
            "tf.Tensor([[1.7874538]], shape=(1, 1), dtype=float32)\n",
            "tf.Tensor([[-4.4250927]], shape=(1, 1), dtype=float32)\n",
            "tf.Tensor([[1.8317047]], shape=(1, 1), dtype=float32)\n",
            "tf.Tensor([[-4.336591]], shape=(1, 1), dtype=float32)\n",
            "tf.Tensor([[1.8750707]], shape=(1, 1), dtype=float32)\n",
            "tf.Tensor([[-4.249859]], shape=(1, 1), dtype=float32)\n",
            "tf.Tensor([[1.9175693]], shape=(1, 1), dtype=float32)\n",
            "tf.Tensor([[-4.1648617]], shape=(1, 1), dtype=float32)\n",
            "tf.Tensor([[1.9592179]], shape=(1, 1), dtype=float32)\n",
            "tf.Tensor([[-4.081564]], shape=(1, 1), dtype=float32)\n",
            "tf.Tensor([[2.0000336]], shape=(1, 1), dtype=float32)\n",
            "tf.Tensor([[-3.9999328]], shape=(1, 1), dtype=float32)\n",
            "tf.Tensor([[2.0400329]], shape=(1, 1), dtype=float32)\n",
            "tf.Tensor([[-3.9199343]], shape=(1, 1), dtype=float32)\n",
            "tf.Tensor([[2.0792322]], shape=(1, 1), dtype=float32)\n",
            "tf.Tensor([[-3.8415356]], shape=(1, 1), dtype=float32)\n",
            "tf.Tensor([[2.1176476]], shape=(1, 1), dtype=float32)\n",
            "tf.Tensor([[-3.7647047]], shape=(1, 1), dtype=float32)\n",
            "tf.Tensor([[2.1552947]], shape=(1, 1), dtype=float32)\n",
            "tf.Tensor([[-3.6894107]], shape=(1, 1), dtype=float32)\n",
            "tf.Tensor([[2.1921887]], shape=(1, 1), dtype=float32)\n",
            "tf.Tensor([[-3.6156225]], shape=(1, 1), dtype=float32)\n",
            "tf.Tensor([[2.228345]], shape=(1, 1), dtype=float32)\n",
            "tf.Tensor([[-3.5433102]], shape=(1, 1), dtype=float32)\n",
            "tf.Tensor([[2.263778]], shape=(1, 1), dtype=float32)\n",
            "tf.Tensor([[-3.472444]], shape=(1, 1), dtype=float32)\n",
            "tf.Tensor([[2.2985024]], shape=(1, 1), dtype=float32)\n",
            "tf.Tensor([[-3.402995]], shape=(1, 1), dtype=float32)\n",
            "tf.Tensor([[2.3325324]], shape=(1, 1), dtype=float32)\n",
            "tf.Tensor([[-3.3349352]], shape=(1, 1), dtype=float32)\n",
            "tf.Tensor([[2.3658817]], shape=(1, 1), dtype=float32)\n",
            "tf.Tensor([[-3.2682366]], shape=(1, 1), dtype=float32)\n",
            "tf.Tensor([[2.398564]], shape=(1, 1), dtype=float32)\n",
            "tf.Tensor([[-3.2028718]], shape=(1, 1), dtype=float32)\n",
            "tf.Tensor([[2.4305928]], shape=(1, 1), dtype=float32)\n",
            "tf.Tensor([[-3.1388144]], shape=(1, 1), dtype=float32)\n",
            "tf.Tensor([[2.4619808]], shape=(1, 1), dtype=float32)\n",
            "tf.Tensor([[-3.0760384]], shape=(1, 1), dtype=float32)\n",
            "tf.Tensor([[2.492741]], shape=(1, 1), dtype=float32)\n",
            "tf.Tensor([[-3.0145178]], shape=(1, 1), dtype=float32)\n",
            "tf.Tensor([[2.5228863]], shape=(1, 1), dtype=float32)\n",
            "tf.Tensor([[-2.9542274]], shape=(1, 1), dtype=float32)\n",
            "tf.Tensor([[2.5524285]], shape=(1, 1), dtype=float32)\n",
            "tf.Tensor([[-2.895143]], shape=(1, 1), dtype=float32)\n",
            "tf.Tensor([[2.58138]], shape=(1, 1), dtype=float32)\n",
            "tf.Tensor([[-2.8372402]], shape=(1, 1), dtype=float32)\n",
            "tf.Tensor([[2.6097522]], shape=(1, 1), dtype=float32)\n",
            "tf.Tensor([[-2.7804956]], shape=(1, 1), dtype=float32)\n",
            "tf.Tensor([[2.637557]], shape=(1, 1), dtype=float32)\n",
            "tf.Tensor([[-2.724886]], shape=(1, 1), dtype=float32)\n",
            "tf.Tensor([[2.664806]], shape=(1, 1), dtype=float32)\n",
            "tf.Tensor([[-2.6703882]], shape=(1, 1), dtype=float32)\n",
            "tf.Tensor([[2.6915097]], shape=(1, 1), dtype=float32)\n",
            "tf.Tensor([[-2.6169806]], shape=(1, 1), dtype=float32)\n",
            "tf.Tensor([[2.7176795]], shape=(1, 1), dtype=float32)\n",
            "tf.Tensor([[-2.564641]], shape=(1, 1), dtype=float32)\n",
            "tf.Tensor([[2.743326]], shape=(1, 1), dtype=float32)\n",
            "tf.Tensor([[-2.513348]], shape=(1, 1), dtype=float32)\n",
            "tf.Tensor([[2.7684593]], shape=(1, 1), dtype=float32)\n",
            "tf.Tensor([[-2.4630814]], shape=(1, 1), dtype=float32)\n",
            "tf.Tensor([[2.79309]], shape=(1, 1), dtype=float32)\n",
            "tf.Tensor([[-2.4138198]], shape=(1, 1), dtype=float32)\n",
            "tf.Tensor([[2.8172283]], shape=(1, 1), dtype=float32)\n",
            "tf.Tensor([[-2.3655434]], shape=(1, 1), dtype=float32)\n",
            "tf.Tensor([[2.8408837]], shape=(1, 1), dtype=float32)\n",
            "tf.Tensor([[-2.3182325]], shape=(1, 1), dtype=float32)\n",
            "tf.Tensor([[2.8640661]], shape=(1, 1), dtype=float32)\n",
            "tf.Tensor([[-2.2718678]], shape=(1, 1), dtype=float32)\n",
            "tf.Tensor([[2.8867848]], shape=(1, 1), dtype=float32)\n",
            "tf.Tensor([[-2.2264304]], shape=(1, 1), dtype=float32)\n",
            "tf.Tensor([[2.909049]], shape=(1, 1), dtype=float32)\n",
            "tf.Tensor([[-2.181902]], shape=(1, 1), dtype=float32)\n",
            "tf.Tensor([[2.9308681]], shape=(1, 1), dtype=float32)\n",
            "tf.Tensor([[-2.1382637]], shape=(1, 1), dtype=float32)\n",
            "tf.Tensor([[2.9522507]], shape=(1, 1), dtype=float32)\n",
            "tf.Tensor([[-2.0954986]], shape=(1, 1), dtype=float32)\n",
            "tf.Tensor([[2.9732058]], shape=(1, 1), dtype=float32)\n",
            "tf.Tensor([[-2.0535884]], shape=(1, 1), dtype=float32)\n",
            "tf.Tensor([[2.9937418]], shape=(1, 1), dtype=float32)\n",
            "tf.Tensor([[-2.0125165]], shape=(1, 1), dtype=float32)\n",
            "tf.Tensor([[3.013867]], shape=(1, 1), dtype=float32)\n",
            "tf.Tensor([[-1.9722662]], shape=(1, 1), dtype=float32)\n",
            "tf.Tensor([[3.0335896]], shape=(1, 1), dtype=float32)\n",
            "tf.Tensor([[-1.9328208]], shape=(1, 1), dtype=float32)\n",
            "tf.Tensor([[3.0529177]], shape=(1, 1), dtype=float32)\n",
            "tf.Tensor([[-1.8941646]], shape=(1, 1), dtype=float32)\n",
            "tf.Tensor([[3.0718594]], shape=(1, 1), dtype=float32)\n",
            "tf.Tensor([[-1.8562813]], shape=(1, 1), dtype=float32)\n",
            "tf.Tensor([[3.0904222]], shape=(1, 1), dtype=float32)\n",
            "tf.Tensor([[-1.8191557]], shape=(1, 1), dtype=float32)\n",
            "tf.Tensor([[3.1086137]], shape=(1, 1), dtype=float32)\n",
            "tf.Tensor([[-1.7827725]], shape=(1, 1), dtype=float32)\n",
            "tf.Tensor([[3.1264415]], shape=(1, 1), dtype=float32)\n",
            "tf.Tensor([[-1.747117]], shape=(1, 1), dtype=float32)\n",
            "tf.Tensor([[3.1439126]], shape=(1, 1), dtype=float32)\n",
            "tf.Tensor([[-1.7121749]], shape=(1, 1), dtype=float32)\n",
            "tf.Tensor([[3.1610343]], shape=(1, 1), dtype=float32)\n",
            "tf.Tensor([[-1.6779313]], shape=(1, 1), dtype=float32)\n",
            "tf.Tensor([[3.1778138]], shape=(1, 1), dtype=float32)\n",
            "tf.Tensor([[-1.6443725]], shape=(1, 1), dtype=float32)\n",
            "tf.Tensor([[3.1942575]], shape=(1, 1), dtype=float32)\n",
            "tf.Tensor([[-1.611485]], shape=(1, 1), dtype=float32)\n",
            "tf.Tensor([[3.2103724]], shape=(1, 1), dtype=float32)\n",
            "tf.Tensor([[-1.5792551]], shape=(1, 1), dtype=float32)\n",
            "tf.Tensor([[3.226165]], shape=(1, 1), dtype=float32)\n",
            "tf.Tensor([[-1.5476699]], shape=(1, 1), dtype=float32)\n",
            "tf.Tensor([[3.2416418]], shape=(1, 1), dtype=float32)\n",
            "tf.Tensor([[-1.5167165]], shape=(1, 1), dtype=float32)\n",
            "tf.Tensor([[3.256809]], shape=(1, 1), dtype=float32)\n",
            "tf.Tensor([[-1.486382]], shape=(1, 1), dtype=float32)\n",
            "tf.Tensor([[3.2716727]], shape=(1, 1), dtype=float32)\n",
            "tf.Tensor([[-1.4566545]], shape=(1, 1), dtype=float32)\n",
            "tf.Tensor([[3.2862394]], shape=(1, 1), dtype=float32)\n",
            "tf.Tensor([[-1.4275212]], shape=(1, 1), dtype=float32)\n",
            "tf.Tensor([[3.3005147]], shape=(1, 1), dtype=float32)\n",
            "tf.Tensor([[-1.3989706]], shape=(1, 1), dtype=float32)\n",
            "tf.Tensor([[3.3145044]], shape=(1, 1), dtype=float32)\n",
            "tf.Tensor([[-1.3709912]], shape=(1, 1), dtype=float32)\n",
            "tf.Tensor([[3.3282144]], shape=(1, 1), dtype=float32)\n",
            "tf.Tensor([[-1.3435712]], shape=(1, 1), dtype=float32)\n",
            "tf.Tensor([[3.34165]], shape=(1, 1), dtype=float32)\n",
            "tf.Tensor([[-1.3167]], shape=(1, 1), dtype=float32)\n",
            "tf.Tensor([[3.354817]], shape=(1, 1), dtype=float32)\n",
            "tf.Tensor([[-1.2903662]], shape=(1, 1), dtype=float32)\n",
            "tf.Tensor([[3.3677206]], shape=(1, 1), dtype=float32)\n",
            "tf.Tensor([[-1.2645588]], shape=(1, 1), dtype=float32)\n",
            "tf.Tensor([[3.380366]], shape=(1, 1), dtype=float32)\n",
            "tf.Tensor([[-1.2392678]], shape=(1, 1), dtype=float32)\n",
            "tf.Tensor([[3.3927588]], shape=(1, 1), dtype=float32)\n",
            "tf.Tensor([[-1.2144823]], shape=(1, 1), dtype=float32)\n",
            "tf.Tensor([[3.4049037]], shape=(1, 1), dtype=float32)\n",
            "tf.Tensor([[-1.1901927]], shape=(1, 1), dtype=float32)\n",
            "tf.Tensor([[3.4168055]], shape=(1, 1), dtype=float32)\n",
            "tf.Tensor([[-1.166389]], shape=(1, 1), dtype=float32)\n",
            "tf.Tensor([[3.4284694]], shape=(1, 1), dtype=float32)\n",
            "tf.Tensor([[-1.1430612]], shape=(1, 1), dtype=float32)\n",
            "tf.Tensor([[3.4399]], shape=(1, 1), dtype=float32)\n",
            "tf.Tensor([[-1.1202002]], shape=(1, 1), dtype=float32)\n",
            "tf.Tensor([[3.451102]], shape=(1, 1), dtype=float32)\n",
            "tf.Tensor([[-1.097796]], shape=(1, 1), dtype=float32)\n",
            "tf.Tensor([[3.46208]], shape=(1, 1), dtype=float32)\n",
            "tf.Tensor([[-1.07584]], shape=(1, 1), dtype=float32)\n",
            "tf.Tensor([[3.4728384]], shape=(1, 1), dtype=float32)\n",
            "tf.Tensor([[-1.0543232]], shape=(1, 1), dtype=float32)\n",
            "tf.Tensor([[3.4833817]], shape=(1, 1), dtype=float32)\n",
            "tf.Tensor([[-1.0332365]], shape=(1, 1), dtype=float32)\n",
            "tf.Tensor([[3.493714]], shape=(1, 1), dtype=float32)\n",
            "tf.Tensor([[-1.0125718]], shape=(1, 1), dtype=float32)\n",
            "tf.Tensor([[3.5038397]], shape=(1, 1), dtype=float32)\n",
            "tf.Tensor([[-0.99232054]], shape=(1, 1), dtype=float32)\n",
            "tf.Tensor([[3.513763]], shape=(1, 1), dtype=float32)\n",
            "tf.Tensor([[-0.9724741]], shape=(1, 1), dtype=float32)\n",
            "tf.Tensor([[3.5234878]], shape=(1, 1), dtype=float32)\n",
            "tf.Tensor([[-0.9530244]], shape=(1, 1), dtype=float32)\n",
            "tf.Tensor([[3.533018]], shape=(1, 1), dtype=float32)\n",
            "tf.Tensor([[-0.9339638]], shape=(1, 1), dtype=float32)\n",
            "tf.Tensor([[3.5423577]], shape=(1, 1), dtype=float32)\n",
            "tf.Tensor([[-0.91528463]], shape=(1, 1), dtype=float32)\n",
            "tf.Tensor([[3.5515106]], shape=(1, 1), dtype=float32)\n",
            "tf.Tensor([[-0.89697886]], shape=(1, 1), dtype=float32)\n",
            "tf.Tensor([[3.5604804]], shape=(1, 1), dtype=float32)\n",
            "tf.Tensor([[-0.8790393]], shape=(1, 1), dtype=float32)\n",
            "tf.Tensor([[3.5692708]], shape=(1, 1), dtype=float32)\n",
            "tf.Tensor([[-0.8614583]], shape=(1, 1), dtype=float32)\n",
            "tf.Tensor([[3.5778854]], shape=(1, 1), dtype=float32)\n",
            "tf.Tensor([[-0.8442292]], shape=(1, 1), dtype=float32)\n",
            "tf.Tensor([[3.5863278]], shape=(1, 1), dtype=float32)\n",
            "tf.Tensor([[-0.8273444]], shape=(1, 1), dtype=float32)\n",
            "tf.Tensor([[3.5946012]], shape=(1, 1), dtype=float32)\n",
            "tf.Tensor([[-0.8107977]], shape=(1, 1), dtype=float32)\n",
            "tf.Tensor([[3.602709]], shape=(1, 1), dtype=float32)\n",
            "tf.Tensor([[-0.7945819]], shape=(1, 1), dtype=float32)\n",
            "tf.Tensor([[3.6106548]], shape=(1, 1), dtype=float32)\n",
            "tf.Tensor([[-0.77869034]], shape=(1, 1), dtype=float32)\n",
            "tf.Tensor([[3.6184418]], shape=(1, 1), dtype=float32)\n",
            "tf.Tensor([[-0.76311636]], shape=(1, 1), dtype=float32)\n",
            "tf.Tensor([[3.626073]], shape=(1, 1), dtype=float32)\n",
            "tf.Tensor([[-0.74785423]], shape=(1, 1), dtype=float32)\n",
            "tf.Tensor([[3.6335514]], shape=(1, 1), dtype=float32)\n",
            "tf.Tensor([[-0.7328973]], shape=(1, 1), dtype=float32)\n",
            "tf.Tensor([[3.6408803]], shape=(1, 1), dtype=float32)\n",
            "tf.Tensor([[-0.7182393]], shape=(1, 1), dtype=float32)\n",
            "tf.Tensor([[3.6480627]], shape=(1, 1), dtype=float32)\n",
            "tf.Tensor([[-0.7038746]], shape=(1, 1), dtype=float32)\n",
            "tf.Tensor([[3.6551015]], shape=(1, 1), dtype=float32)\n",
            "tf.Tensor([[-0.6897969]], shape=(1, 1), dtype=float32)\n",
            "tf.Tensor([[3.6619995]], shape=(1, 1), dtype=float32)\n",
            "tf.Tensor([[-0.6760011]], shape=(1, 1), dtype=float32)\n",
            "tf.Tensor([[3.6687596]], shape=(1, 1), dtype=float32)\n",
            "tf.Tensor([[-0.66248083]], shape=(1, 1), dtype=float32)\n",
            "tf.Tensor([[3.6753843]], shape=(1, 1), dtype=float32)\n",
            "tf.Tensor([[-0.64923143]], shape=(1, 1), dtype=float32)\n",
            "tf.Tensor([[3.6818767]], shape=(1, 1), dtype=float32)\n",
            "tf.Tensor([[-0.6362467]], shape=(1, 1), dtype=float32)\n",
            "tf.Tensor([[3.688239]], shape=(1, 1), dtype=float32)\n",
            "tf.Tensor([[-0.6235218]], shape=(1, 1), dtype=float32)\n",
            "tf.Tensor([[3.6944742]], shape=(1, 1), dtype=float32)\n",
            "tf.Tensor([[-0.61105156]], shape=(1, 1), dtype=float32)\n",
            "tf.Tensor([[3.7005847]], shape=(1, 1), dtype=float32)\n",
            "tf.Tensor([[-0.5988307]], shape=(1, 1), dtype=float32)\n",
            "tf.Tensor([[3.706573]], shape=(1, 1), dtype=float32)\n",
            "tf.Tensor([[-0.586854]], shape=(1, 1), dtype=float32)\n",
            "tf.Tensor([[3.7124414]], shape=(1, 1), dtype=float32)\n",
            "tf.Tensor([[-0.5751171]], shape=(1, 1), dtype=float32)\n",
            "tf.Tensor([[3.7181926]], shape=(1, 1), dtype=float32)\n",
            "tf.Tensor([[-0.56361485]], shape=(1, 1), dtype=float32)\n",
            "tf.Tensor([[3.7238288]], shape=(1, 1), dtype=float32)\n",
            "tf.Tensor([[-0.5523424]], shape=(1, 1), dtype=float32)\n",
            "tf.Tensor([[3.7293522]], shape=(1, 1), dtype=float32)\n",
            "tf.Tensor([[-0.5412955]], shape=(1, 1), dtype=float32)\n",
            "tf.Tensor([[3.7347653]], shape=(1, 1), dtype=float32)\n",
            "tf.Tensor([[-0.5304694]], shape=(1, 1), dtype=float32)\n",
            "tf.Tensor([[3.7400699]], shape=(1, 1), dtype=float32)\n",
            "tf.Tensor([[-0.51986027]], shape=(1, 1), dtype=float32)\n",
            "tf.Tensor([[3.7452686]], shape=(1, 1), dtype=float32)\n",
            "tf.Tensor([[-0.50946283]], shape=(1, 1), dtype=float32)\n",
            "tf.Tensor([[3.750363]], shape=(1, 1), dtype=float32)\n",
            "tf.Tensor([[-0.49927378]], shape=(1, 1), dtype=float32)\n",
            "tf.Tensor([[3.7553558]], shape=(1, 1), dtype=float32)\n",
            "tf.Tensor([[-0.48928833]], shape=(1, 1), dtype=float32)\n",
            "tf.Tensor([[3.7602487]], shape=(1, 1), dtype=float32)\n",
            "tf.Tensor([[-0.47950268]], shape=(1, 1), dtype=float32)\n",
            "tf.Tensor([[3.7650437]], shape=(1, 1), dtype=float32)\n",
            "tf.Tensor([[-0.46991253]], shape=(1, 1), dtype=float32)\n",
            "tf.Tensor([[3.769743]], shape=(1, 1), dtype=float32)\n",
            "tf.Tensor([[-0.46051407]], shape=(1, 1), dtype=float32)\n",
            "tf.Tensor([[3.774348]], shape=(1, 1), dtype=float32)\n",
            "tf.Tensor([[-0.45130396]], shape=(1, 1), dtype=float32)\n",
            "tf.Tensor([[3.778861]], shape=(1, 1), dtype=float32)\n",
            "tf.Tensor([[-0.4422779]], shape=(1, 1), dtype=float32)\n",
            "tf.Tensor([[3.7832837]], shape=(1, 1), dtype=float32)\n",
            "tf.Tensor([[-0.43343258]], shape=(1, 1), dtype=float32)\n",
            "tf.Tensor([[3.787618]], shape=(1, 1), dtype=float32)\n",
            "tf.Tensor([[-0.42476416]], shape=(1, 1), dtype=float32)\n",
            "tf.Tensor([[3.7918656]], shape=(1, 1), dtype=float32)\n",
            "tf.Tensor([[-0.41626883]], shape=(1, 1), dtype=float32)\n",
            "tf.Tensor([[3.7960284]], shape=(1, 1), dtype=float32)\n",
            "tf.Tensor([[-0.40794325]], shape=(1, 1), dtype=float32)\n",
            "tf.Tensor([[3.8001077]], shape=(1, 1), dtype=float32)\n",
            "tf.Tensor([[-0.39978456]], shape=(1, 1), dtype=float32)\n",
            "tf.Tensor([[3.8041055]], shape=(1, 1), dtype=float32)\n",
            "tf.Tensor([[-0.39178896]], shape=(1, 1), dtype=float32)\n",
            "tf.Tensor([[3.8080235]], shape=(1, 1), dtype=float32)\n",
            "tf.Tensor([[-0.3839531]], shape=(1, 1), dtype=float32)\n",
            "tf.Tensor([[3.811863]], shape=(1, 1), dtype=float32)\n",
            "tf.Tensor([[-0.3762741]], shape=(1, 1), dtype=float32)\n",
            "tf.Tensor([[3.8156257]], shape=(1, 1), dtype=float32)\n",
            "tf.Tensor([[-0.36874866]], shape=(1, 1), dtype=float32)\n",
            "tf.Tensor([[3.819313]], shape=(1, 1), dtype=float32)\n",
            "tf.Tensor([[-0.3613739]], shape=(1, 1), dtype=float32)\n",
            "tf.Tensor([[3.8229268]], shape=(1, 1), dtype=float32)\n",
            "tf.Tensor([[-0.35414648]], shape=(1, 1), dtype=float32)\n",
            "tf.Tensor([[3.8264682]], shape=(1, 1), dtype=float32)\n",
            "tf.Tensor([[-0.34706354]], shape=(1, 1), dtype=float32)\n",
            "tf.Tensor([[3.829939]], shape=(1, 1), dtype=float32)\n",
            "tf.Tensor([[-0.34012222]], shape=(1, 1), dtype=float32)\n",
            "tf.Tensor([[3.8333402]], shape=(1, 1), dtype=float32)\n",
            "tf.Tensor([[-0.33331966]], shape=(1, 1), dtype=float32)\n",
            "tf.Tensor([[3.8366733]], shape=(1, 1), dtype=float32)\n",
            "tf.Tensor([[-0.32665348]], shape=(1, 1), dtype=float32)\n",
            "tf.Tensor([[3.8399398]], shape=(1, 1), dtype=float32)\n",
            "tf.Tensor([[-0.32012033]], shape=(1, 1), dtype=float32)\n",
            "tf.Tensor([[3.843141]], shape=(1, 1), dtype=float32)\n",
            "tf.Tensor([[-0.31371784]], shape=(1, 1), dtype=float32)\n",
            "tf.Tensor([[3.8462782]], shape=(1, 1), dtype=float32)\n",
            "tf.Tensor([[-0.30744362]], shape=(1, 1), dtype=float32)\n",
            "tf.Tensor([[3.8493526]], shape=(1, 1), dtype=float32)\n",
            "tf.Tensor([[-0.3012948]], shape=(1, 1), dtype=float32)\n",
            "tf.Tensor([[3.8523655]], shape=(1, 1), dtype=float32)\n",
            "tf.Tensor([[-0.295269]], shape=(1, 1), dtype=float32)\n",
            "tf.Tensor([[3.855318]], shape=(1, 1), dtype=float32)\n",
            "tf.Tensor([[-0.28936386]], shape=(1, 1), dtype=float32)\n",
            "tf.Tensor([[3.8582118]], shape=(1, 1), dtype=float32)\n",
            "tf.Tensor([[-0.2835765]], shape=(1, 1), dtype=float32)\n",
            "tf.Tensor([[3.8610475]], shape=(1, 1), dtype=float32)\n",
            "tf.Tensor([[-0.277905]], shape=(1, 1), dtype=float32)\n",
            "tf.Tensor([[3.8638265]], shape=(1, 1), dtype=float32)\n",
            "tf.Tensor([[-0.27234697]], shape=(1, 1), dtype=float32)\n",
            "tf.Tensor([[3.86655]], shape=(1, 1), dtype=float32)\n",
            "tf.Tensor([[-0.26690006]], shape=(1, 1), dtype=float32)\n",
            "tf.Tensor([[3.869219]], shape=(1, 1), dtype=float32)\n",
            "tf.Tensor([[-0.26156187]], shape=(1, 1), dtype=float32)\n",
            "tf.Tensor([[3.8718348]], shape=(1, 1), dtype=float32)\n",
            "tf.Tensor([[-0.2563305]], shape=(1, 1), dtype=float32)\n",
            "tf.Tensor([[3.874398]], shape=(1, 1), dtype=float32)\n",
            "tf.Tensor([[-0.251204]], shape=(1, 1), dtype=float32)\n",
            "tf.Tensor([[3.87691]], shape=(1, 1), dtype=float32)\n",
            "tf.Tensor([[-0.24618006]], shape=(1, 1), dtype=float32)\n",
            "tf.Tensor([[3.879372]], shape=(1, 1), dtype=float32)\n",
            "tf.Tensor([[-0.24125624]], shape=(1, 1), dtype=float32)\n",
            "tf.Tensor([[3.8817844]], shape=(1, 1), dtype=float32)\n",
            "tf.Tensor([[-0.23643112]], shape=(1, 1), dtype=float32)\n",
            "tf.Tensor([[3.8841488]], shape=(1, 1), dtype=float32)\n",
            "tf.Tensor([[-0.23170233]], shape=(1, 1), dtype=float32)\n",
            "tf.Tensor([[3.8864658]], shape=(1, 1), dtype=float32)\n",
            "tf.Tensor([[-0.22706842]], shape=(1, 1), dtype=float32)\n",
            "tf.Tensor([[3.8887365]], shape=(1, 1), dtype=float32)\n",
            "tf.Tensor([[-0.22252703]], shape=(1, 1), dtype=float32)\n",
            "tf.Tensor([[3.8909616]], shape=(1, 1), dtype=float32)\n",
            "tf.Tensor([[-0.2180767]], shape=(1, 1), dtype=float32)\n",
            "tf.Tensor([[3.8931425]], shape=(1, 1), dtype=float32)\n",
            "tf.Tensor([[-0.21371508]], shape=(1, 1), dtype=float32)\n",
            "tf.Tensor([[3.8952796]], shape=(1, 1), dtype=float32)\n",
            "tf.Tensor([[-0.20944071]], shape=(1, 1), dtype=float32)\n",
            "tf.Tensor([[3.8973742]], shape=(1, 1), dtype=float32)\n",
            "tf.Tensor([[-0.2052517]], shape=(1, 1), dtype=float32)\n",
            "tf.Tensor([[3.8994267]], shape=(1, 1), dtype=float32)\n",
            "tf.Tensor([[-0.2011466]], shape=(1, 1), dtype=float32)\n",
            "tf.Tensor([[3.9014382]], shape=(1, 1), dtype=float32)\n",
            "tf.Tensor([[-0.19712353]], shape=(1, 1), dtype=float32)\n",
            "tf.Tensor([[3.9034095]], shape=(1, 1), dtype=float32)\n",
            "tf.Tensor([[-0.19318104]], shape=(1, 1), dtype=float32)\n",
            "tf.Tensor([[3.9053414]], shape=(1, 1), dtype=float32)\n",
            "tf.Tensor([[-0.18931723]], shape=(1, 1), dtype=float32)\n",
            "tf.Tensor([[3.9072347]], shape=(1, 1), dtype=float32)\n",
            "tf.Tensor([[-0.18553066]], shape=(1, 1), dtype=float32)\n",
            "tf.Tensor([[3.90909]], shape=(1, 1), dtype=float32)\n",
            "tf.Tensor([[-0.18181992]], shape=(1, 1), dtype=float32)\n",
            "tf.Tensor([[3.9109082]], shape=(1, 1), dtype=float32)\n",
            "tf.Tensor([[-0.17818356]], shape=(1, 1), dtype=float32)\n",
            "tf.Tensor([[3.9126902]], shape=(1, 1), dtype=float32)\n",
            "tf.Tensor([[-0.17461967]], shape=(1, 1), dtype=float32)\n",
            "tf.Tensor([[3.9144363]], shape=(1, 1), dtype=float32)\n",
            "tf.Tensor([[-0.17112732]], shape=(1, 1), dtype=float32)\n",
            "tf.Tensor([[3.9161477]], shape=(1, 1), dtype=float32)\n",
            "tf.Tensor([[-0.16770458]], shape=(1, 1), dtype=float32)\n",
            "tf.Tensor([[3.9178247]], shape=(1, 1), dtype=float32)\n",
            "tf.Tensor([[-0.16435051]], shape=(1, 1), dtype=float32)\n",
            "tf.Tensor([[3.9194682]], shape=(1, 1), dtype=float32)\n",
            "tf.Tensor([[-0.16106367]], shape=(1, 1), dtype=float32)\n",
            "tf.Tensor([[3.9210787]], shape=(1, 1), dtype=float32)\n",
            "tf.Tensor([[-0.15784264]], shape=(1, 1), dtype=float32)\n",
            "tf.Tensor([[3.922657]], shape=(1, 1), dtype=float32)\n",
            "tf.Tensor([[-0.15468597]], shape=(1, 1), dtype=float32)\n",
            "tf.Tensor([[3.9242039]], shape=(1, 1), dtype=float32)\n",
            "tf.Tensor([[-0.15159225]], shape=(1, 1), dtype=float32)\n",
            "tf.Tensor([[3.9257197]], shape=(1, 1), dtype=float32)\n",
            "tf.Tensor([[-0.14856052]], shape=(1, 1), dtype=float32)\n",
            "tf.Tensor([[3.9272053]], shape=(1, 1), dtype=float32)\n",
            "tf.Tensor([[-0.14558935]], shape=(1, 1), dtype=float32)\n",
            "tf.Tensor([[3.928661]], shape=(1, 1), dtype=float32)\n",
            "tf.Tensor([[-0.14267778]], shape=(1, 1), dtype=float32)\n",
            "tf.Tensor([[3.9300878]], shape=(1, 1), dtype=float32)\n",
            "tf.Tensor([[-0.13982439]], shape=(1, 1), dtype=float32)\n",
            "tf.Tensor([[3.9314861]], shape=(1, 1), dtype=float32)\n",
            "tf.Tensor([[-0.13702774]], shape=(1, 1), dtype=float32)\n",
            "tf.Tensor([[3.9328563]], shape=(1, 1), dtype=float32)\n",
            "tf.Tensor([[-0.13428736]], shape=(1, 1), dtype=float32)\n",
            "tf.Tensor([[3.934199]], shape=(1, 1), dtype=float32)\n",
            "tf.Tensor([[-0.13160181]], shape=(1, 1), dtype=float32)\n",
            "tf.Tensor([[3.9355152]], shape=(1, 1), dtype=float32)\n",
            "tf.Tensor([[-0.12896967]], shape=(1, 1), dtype=float32)\n",
            "tf.Tensor([[3.9368048]], shape=(1, 1), dtype=float32)\n",
            "tf.Tensor([[-0.12639046]], shape=(1, 1), dtype=float32)\n",
            "tf.Tensor([[3.9380686]], shape=(1, 1), dtype=float32)\n",
            "tf.Tensor([[-0.12386274]], shape=(1, 1), dtype=float32)\n",
            "tf.Tensor([[3.9393072]], shape=(1, 1), dtype=float32)\n",
            "tf.Tensor([[-0.12138557]], shape=(1, 1), dtype=float32)\n",
            "tf.Tensor([[3.940521]], shape=(1, 1), dtype=float32)\n",
            "tf.Tensor([[-0.118958]], shape=(1, 1), dtype=float32)\n",
            "tf.Tensor([[3.9417105]], shape=(1, 1), dtype=float32)\n",
            "tf.Tensor([[-0.11657906]], shape=(1, 1), dtype=float32)\n",
            "tf.Tensor([[3.9428763]], shape=(1, 1), dtype=float32)\n",
            "tf.Tensor([[-0.11424732]], shape=(1, 1), dtype=float32)\n",
            "tf.Tensor([[3.9440188]], shape=(1, 1), dtype=float32)\n",
            "tf.Tensor([[-0.11196232]], shape=(1, 1), dtype=float32)\n",
            "tf.Tensor([[3.9451385]], shape=(1, 1), dtype=float32)\n",
            "tf.Tensor([[-0.10972309]], shape=(1, 1), dtype=float32)\n",
            "tf.Tensor([[3.9462357]], shape=(1, 1), dtype=float32)\n",
            "tf.Tensor([[-0.10752869]], shape=(1, 1), dtype=float32)\n",
            "tf.Tensor([[3.947311]], shape=(1, 1), dtype=float32)\n",
            "tf.Tensor([[-0.10537815]], shape=(1, 1), dtype=float32)\n",
            "tf.Tensor([[3.9483647]], shape=(1, 1), dtype=float32)\n",
            "tf.Tensor([[-0.10327053]], shape=(1, 1), dtype=float32)\n",
            "tf.Tensor([[3.9493973]], shape=(1, 1), dtype=float32)\n",
            "tf.Tensor([[-0.10120535]], shape=(1, 1), dtype=float32)\n",
            "tf.Tensor([[3.9504094]], shape=(1, 1), dtype=float32)\n",
            "tf.Tensor([[-0.09918118]], shape=(1, 1), dtype=float32)\n",
            "tf.Tensor([[3.9514012]], shape=(1, 1), dtype=float32)\n",
            "tf.Tensor([[-0.09719753]], shape=(1, 1), dtype=float32)\n",
            "tf.Tensor([[3.9523733]], shape=(1, 1), dtype=float32)\n",
            "tf.Tensor([[-0.09525347]], shape=(1, 1), dtype=float32)\n",
            "tf.Tensor([[3.9533257]], shape=(1, 1), dtype=float32)\n",
            "tf.Tensor([[-0.0933485]], shape=(1, 1), dtype=float32)\n",
            "tf.Tensor([[3.9542592]], shape=(1, 1), dtype=float32)\n",
            "tf.Tensor([[-0.09148169]], shape=(1, 1), dtype=float32)\n",
            "tf.Tensor([[3.955174]], shape=(1, 1), dtype=float32)\n",
            "tf.Tensor([[-0.08965206]], shape=(1, 1), dtype=float32)\n",
            "tf.Tensor([[3.9560704]], shape=(1, 1), dtype=float32)\n",
            "tf.Tensor([[-0.08785915]], shape=(1, 1), dtype=float32)\n",
            "tf.Tensor([[3.956949]], shape=(1, 1), dtype=float32)\n",
            "tf.Tensor([[-0.08610201]], shape=(1, 1), dtype=float32)\n",
            "tf.Tensor([[3.95781]], shape=(1, 1), dtype=float32)\n",
            "tf.Tensor([[-0.08438015]], shape=(1, 1), dtype=float32)\n",
            "tf.Tensor([[3.9586537]], shape=(1, 1), dtype=float32)\n",
            "tf.Tensor([[-0.08269262]], shape=(1, 1), dtype=float32)\n",
            "tf.Tensor([[3.9594805]], shape=(1, 1), dtype=float32)\n",
            "tf.Tensor([[-0.08103895]], shape=(1, 1), dtype=float32)\n",
            "tf.Tensor([[3.960291]], shape=(1, 1), dtype=float32)\n",
            "tf.Tensor([[-0.07941818]], shape=(1, 1), dtype=float32)\n",
            "tf.Tensor([[3.961085]], shape=(1, 1), dtype=float32)\n",
            "tf.Tensor([[-0.07782984]], shape=(1, 1), dtype=float32)\n",
            "tf.Tensor([[3.9618633]], shape=(1, 1), dtype=float32)\n",
            "tf.Tensor([[-0.07627344]], shape=(1, 1), dtype=float32)\n",
            "tf.Tensor([[3.962626]], shape=(1, 1), dtype=float32)\n",
            "tf.Tensor([[-0.07474804]], shape=(1, 1), dtype=float32)\n",
            "tf.Tensor([[3.9633734]], shape=(1, 1), dtype=float32)\n",
            "tf.Tensor([[-0.07325315]], shape=(1, 1), dtype=float32)\n",
            "tf.Tensor([[3.9641058]], shape=(1, 1), dtype=float32)\n",
            "tf.Tensor([[-0.07178831]], shape=(1, 1), dtype=float32)\n",
            "tf.Tensor([[3.9648237]], shape=(1, 1), dtype=float32)\n",
            "tf.Tensor([[-0.07035255]], shape=(1, 1), dtype=float32)\n",
            "tf.Tensor([[3.9655273]], shape=(1, 1), dtype=float32)\n",
            "tf.Tensor([[-0.06894541]], shape=(1, 1), dtype=float32)\n",
            "tf.Tensor([[3.9662168]], shape=(1, 1), dtype=float32)\n",
            "tf.Tensor([[-0.06756639]], shape=(1, 1), dtype=float32)\n",
            "tf.Tensor([[3.9668925]], shape=(1, 1), dtype=float32)\n",
            "tf.Tensor([[-0.06621504]], shape=(1, 1), dtype=float32)\n",
            "tf.Tensor([[3.9675546]], shape=(1, 1), dtype=float32)\n",
            "tf.Tensor([[-0.06489086]], shape=(1, 1), dtype=float32)\n",
            "tf.Tensor([[3.9682035]], shape=(1, 1), dtype=float32)\n",
            "tf.Tensor([[-0.06359291]], shape=(1, 1), dtype=float32)\n",
            "tf.Tensor([[3.9688394]], shape=(1, 1), dtype=float32)\n",
            "tf.Tensor([[-0.06232119]], shape=(1, 1), dtype=float32)\n",
            "tf.Tensor([[3.9694626]], shape=(1, 1), dtype=float32)\n",
            "tf.Tensor([[-0.06107473]], shape=(1, 1), dtype=float32)\n",
            "tf.Tensor([[3.9700735]], shape=(1, 1), dtype=float32)\n",
            "tf.Tensor([[-0.05985308]], shape=(1, 1), dtype=float32)\n",
            "tf.Tensor([[3.970672]], shape=(1, 1), dtype=float32)\n",
            "tf.Tensor([[-0.05865622]], shape=(1, 1), dtype=float32)\n",
            "tf.Tensor([[3.9712584]], shape=(1, 1), dtype=float32)\n",
            "tf.Tensor([[-0.0574832]], shape=(1, 1), dtype=float32)\n",
            "tf.Tensor([[3.9718332]], shape=(1, 1), dtype=float32)\n",
            "tf.Tensor([[-0.05633354]], shape=(1, 1), dtype=float32)\n",
            "tf.Tensor([[3.9723966]], shape=(1, 1), dtype=float32)\n",
            "tf.Tensor([[-0.05520678]], shape=(1, 1), dtype=float32)\n",
            "tf.Tensor([[3.9729488]], shape=(1, 1), dtype=float32)\n",
            "tf.Tensor([[-0.05410242]], shape=(1, 1), dtype=float32)\n",
            "tf.Tensor([[3.9734898]], shape=(1, 1), dtype=float32)\n",
            "tf.Tensor([[-0.05302048]], shape=(1, 1), dtype=float32)\n",
            "tf.Tensor([[3.97402]], shape=(1, 1), dtype=float32)\n",
            "tf.Tensor([[-0.05195999]], shape=(1, 1), dtype=float32)\n",
            "tf.Tensor([[3.9745395]], shape=(1, 1), dtype=float32)\n",
            "tf.Tensor([[-0.05092096]], shape=(1, 1), dtype=float32)\n",
            "tf.Tensor([[3.9750488]], shape=(1, 1), dtype=float32)\n",
            "tf.Tensor([[-0.04990244]], shape=(1, 1), dtype=float32)\n",
            "tf.Tensor([[3.9755478]], shape=(1, 1), dtype=float32)\n",
            "tf.Tensor([[-0.04890442]], shape=(1, 1), dtype=float32)\n",
            "tf.Tensor([[3.9760368]], shape=(1, 1), dtype=float32)\n",
            "tf.Tensor([[-0.04792643]], shape=(1, 1), dtype=float32)\n",
            "tf.Tensor([[3.976516]], shape=(1, 1), dtype=float32)\n",
            "tf.Tensor([[-0.04696798]], shape=(1, 1), dtype=float32)\n",
            "tf.Tensor([[3.9769857]], shape=(1, 1), dtype=float32)\n",
            "tf.Tensor([[-0.04602861]], shape=(1, 1), dtype=float32)\n",
            "tf.Tensor([[3.977446]], shape=(1, 1), dtype=float32)\n",
            "tf.Tensor([[-0.04510784]], shape=(1, 1), dtype=float32)\n",
            "tf.Tensor([[3.9778972]], shape=(1, 1), dtype=float32)\n",
            "tf.Tensor([[-0.04420567]], shape=(1, 1), dtype=float32)\n",
            "tf.Tensor([[3.9783392]], shape=(1, 1), dtype=float32)\n",
            "tf.Tensor([[-0.04332161]], shape=(1, 1), dtype=float32)\n",
            "tf.Tensor([[3.9787724]], shape=(1, 1), dtype=float32)\n",
            "tf.Tensor([[-0.0424552]], shape=(1, 1), dtype=float32)\n",
            "tf.Tensor([[3.979197]], shape=(1, 1), dtype=float32)\n",
            "tf.Tensor([[-0.04160595]], shape=(1, 1), dtype=float32)\n",
            "tf.Tensor([[3.979613]], shape=(1, 1), dtype=float32)\n",
            "tf.Tensor([[-0.04077387]], shape=(1, 1), dtype=float32)\n",
            "tf.Tensor([[3.9800208]], shape=(1, 1), dtype=float32)\n",
            "tf.Tensor([[-0.03995848]], shape=(1, 1), dtype=float32)\n",
            "tf.Tensor([[3.9804204]], shape=(1, 1), dtype=float32)\n",
            "tf.Tensor([[-0.0391593]], shape=(1, 1), dtype=float32)\n",
            "tf.Tensor([[3.9808118]], shape=(1, 1), dtype=float32)\n",
            "tf.Tensor([[-0.03837633]], shape=(1, 1), dtype=float32)\n",
            "tf.Tensor([[3.9811957]], shape=(1, 1), dtype=float32)\n",
            "tf.Tensor([[-0.03760862]], shape=(1, 1), dtype=float32)\n",
            "tf.Tensor([[3.9815717]], shape=(1, 1), dtype=float32)\n",
            "tf.Tensor([[-0.03685665]], shape=(1, 1), dtype=float32)\n",
            "tf.Tensor([[3.9819403]], shape=(1, 1), dtype=float32)\n",
            "tf.Tensor([[-0.03611946]], shape=(1, 1), dtype=float32)\n",
            "tf.Tensor([[3.9823015]], shape=(1, 1), dtype=float32)\n",
            "tf.Tensor([[-0.03539705]], shape=(1, 1), dtype=float32)\n",
            "tf.Tensor([[3.9826555]], shape=(1, 1), dtype=float32)\n",
            "tf.Tensor([[-0.03468895]], shape=(1, 1), dtype=float32)\n",
            "tf.Tensor([[3.9830024]], shape=(1, 1), dtype=float32)\n",
            "tf.Tensor([[-0.03399515]], shape=(1, 1), dtype=float32)\n",
            "tf.Tensor([[3.9833424]], shape=(1, 1), dtype=float32)\n",
            "tf.Tensor([[-0.03331518]], shape=(1, 1), dtype=float32)\n",
            "tf.Tensor([[3.9836755]], shape=(1, 1), dtype=float32)\n",
            "tf.Tensor([[-0.03264904]], shape=(1, 1), dtype=float32)\n",
            "tf.Tensor([[3.9840019]], shape=(1, 1), dtype=float32)\n",
            "tf.Tensor([[-0.03199625]], shape=(1, 1), dtype=float32)\n",
            "tf.Tensor([[3.9843218]], shape=(1, 1), dtype=float32)\n",
            "tf.Tensor([[-0.03135633]], shape=(1, 1), dtype=float32)\n",
            "tf.Tensor([[3.9846354]], shape=(1, 1), dtype=float32)\n",
            "tf.Tensor([[-0.03072929]], shape=(1, 1), dtype=float32)\n",
            "tf.Tensor([[3.9849427]], shape=(1, 1), dtype=float32)\n",
            "tf.Tensor([[-0.03011465]], shape=(1, 1), dtype=float32)\n",
            "tf.Tensor([[3.9852438]], shape=(1, 1), dtype=float32)\n",
            "tf.Tensor([[-0.02951241]], shape=(1, 1), dtype=float32)\n",
            "tf.Tensor([[3.985539]], shape=(1, 1), dtype=float32)\n",
            "tf.Tensor([[-0.02892208]], shape=(1, 1), dtype=float32)\n",
            "tf.Tensor([[3.9858282]], shape=(1, 1), dtype=float32)\n",
            "tf.Tensor([[-0.02834368]], shape=(1, 1), dtype=float32)\n",
            "tf.Tensor([[3.9861116]], shape=(1, 1), dtype=float32)\n",
            "tf.Tensor([[-0.02777672]], shape=(1, 1), dtype=float32)\n",
            "tf.Tensor([[3.9863894]], shape=(1, 1), dtype=float32)\n",
            "tf.Tensor([[-0.0272212]], shape=(1, 1), dtype=float32)\n",
            "tf.Tensor([[3.9866617]], shape=(1, 1), dtype=float32)\n",
            "tf.Tensor([[-0.02667665]], shape=(1, 1), dtype=float32)\n",
            "tf.Tensor([[3.9869285]], shape=(1, 1), dtype=float32)\n",
            "tf.Tensor([[-0.02614307]], shape=(1, 1), dtype=float32)\n",
            "tf.Tensor([[3.98719]], shape=(1, 1), dtype=float32)\n",
            "tf.Tensor([[-0.02561998]], shape=(1, 1), dtype=float32)\n",
            "tf.Tensor([[3.9874463]], shape=(1, 1), dtype=float32)\n",
            "tf.Tensor([[-0.02510738]], shape=(1, 1), dtype=float32)\n",
            "tf.Tensor([[3.9876974]], shape=(1, 1), dtype=float32)\n",
            "tf.Tensor([[-0.02460527]], shape=(1, 1), dtype=float32)\n",
            "tf.Tensor([[3.9879434]], shape=(1, 1), dtype=float32)\n",
            "tf.Tensor([[-0.02411318]], shape=(1, 1), dtype=float32)\n",
            "tf.Tensor([[3.9881845]], shape=(1, 1), dtype=float32)\n",
            "tf.Tensor([[-0.0236311]], shape=(1, 1), dtype=float32)\n",
            "tf.Tensor([[3.9884207]], shape=(1, 1), dtype=float32)\n",
            "tf.Tensor([[-0.02315855]], shape=(1, 1), dtype=float32)\n",
            "tf.Tensor([[3.9886522]], shape=(1, 1), dtype=float32)\n",
            "tf.Tensor([[-0.02269554]], shape=(1, 1), dtype=float32)\n",
            "tf.Tensor([[3.9888792]], shape=(1, 1), dtype=float32)\n",
            "tf.Tensor([[-0.02224159]], shape=(1, 1), dtype=float32)\n",
            "tf.Tensor([[3.9891016]], shape=(1, 1), dtype=float32)\n",
            "tf.Tensor([[-0.0217967]], shape=(1, 1), dtype=float32)\n",
            "tf.Tensor([[3.9893196]], shape=(1, 1), dtype=float32)\n",
            "tf.Tensor([[-0.02136087]], shape=(1, 1), dtype=float32)\n",
            "tf.Tensor([[3.9895332]], shape=(1, 1), dtype=float32)\n",
            "tf.Tensor([[-0.02093363]], shape=(1, 1), dtype=float32)\n",
            "tf.Tensor([[3.9897425]], shape=(1, 1), dtype=float32)\n",
            "tf.Tensor([[-0.02051497]], shape=(1, 1), dtype=float32)\n",
            "tf.Tensor([[3.9899476]], shape=(1, 1), dtype=float32)\n",
            "tf.Tensor([[-0.02010489]], shape=(1, 1), dtype=float32)\n",
            "tf.Tensor([[3.9901485]], shape=(1, 1), dtype=float32)\n",
            "tf.Tensor([[-0.01970291]], shape=(1, 1), dtype=float32)\n",
            "tf.Tensor([[3.9903455]], shape=(1, 1), dtype=float32)\n",
            "tf.Tensor([[-0.01930904]], shape=(1, 1), dtype=float32)\n",
            "tf.Tensor([[3.9905386]], shape=(1, 1), dtype=float32)\n",
            "tf.Tensor([[-0.01892281]], shape=(1, 1), dtype=float32)\n",
            "tf.Tensor([[3.990728]], shape=(1, 1), dtype=float32)\n",
            "tf.Tensor([[-0.0185442]], shape=(1, 1), dtype=float32)\n",
            "tf.Tensor([[3.9909134]], shape=(1, 1), dtype=float32)\n",
            "tf.Tensor([[-0.01817322]], shape=(1, 1), dtype=float32)\n",
            "tf.Tensor([[3.991095]], shape=(1, 1), dtype=float32)\n",
            "tf.Tensor([[-0.01780987]], shape=(1, 1), dtype=float32)\n",
            "tf.Tensor([[3.9912732]], shape=(1, 1), dtype=float32)\n",
            "tf.Tensor([[-0.01745367]], shape=(1, 1), dtype=float32)\n",
            "tf.Tensor([[3.9914477]], shape=(1, 1), dtype=float32)\n",
            "tf.Tensor([[-0.01710463]], shape=(1, 1), dtype=float32)\n",
            "tf.Tensor([[3.9916186]], shape=(1, 1), dtype=float32)\n",
            "tf.Tensor([[-0.01676273]], shape=(1, 1), dtype=float32)\n",
            "tf.Tensor([[3.9917862]], shape=(1, 1), dtype=float32)\n",
            "tf.Tensor([[-0.01642752]], shape=(1, 1), dtype=float32)\n",
            "tf.Tensor([[3.9919505]], shape=(1, 1), dtype=float32)\n",
            "tf.Tensor([[-0.01609898]], shape=(1, 1), dtype=float32)\n",
            "tf.Tensor([[3.9921114]], shape=(1, 1), dtype=float32)\n",
            "tf.Tensor([[-0.01577711]], shape=(1, 1), dtype=float32)\n",
            "tf.Tensor([[3.9922693]], shape=(1, 1), dtype=float32)\n",
            "tf.Tensor([[-0.01546144]], shape=(1, 1), dtype=float32)\n",
            "tf.Tensor([[3.992424]], shape=(1, 1), dtype=float32)\n",
            "tf.Tensor([[-0.01515198]], shape=(1, 1), dtype=float32)\n",
            "tf.Tensor([[3.9925756]], shape=(1, 1), dtype=float32)\n",
            "tf.Tensor([[-0.01484871]], shape=(1, 1), dtype=float32)\n",
            "tf.Tensor([[3.9927242]], shape=(1, 1), dtype=float32)\n",
            "tf.Tensor([[-0.01455164]], shape=(1, 1), dtype=float32)\n",
            "tf.Tensor([[3.9928696]], shape=(1, 1), dtype=float32)\n",
            "tf.Tensor([[-0.01426077]], shape=(1, 1), dtype=float32)\n",
            "tf.Tensor([[3.9930122]], shape=(1, 1), dtype=float32)\n",
            "tf.Tensor([[-0.01397562]], shape=(1, 1), dtype=float32)\n",
            "tf.Tensor([[3.993152]], shape=(1, 1), dtype=float32)\n",
            "tf.Tensor([[-0.01369619]], shape=(1, 1), dtype=float32)\n",
            "tf.Tensor([[3.9932888]], shape=(1, 1), dtype=float32)\n",
            "tf.Tensor([[-0.01342249]], shape=(1, 1), dtype=float32)\n",
            "tf.Tensor([[3.993423]], shape=(1, 1), dtype=float32)\n",
            "tf.Tensor([[-0.01315403]], shape=(1, 1), dtype=float32)\n",
            "tf.Tensor([[3.9935546]], shape=(1, 1), dtype=float32)\n",
            "tf.Tensor([[-0.01289082]], shape=(1, 1), dtype=float32)\n",
            "tf.Tensor([[3.9936836]], shape=(1, 1), dtype=float32)\n",
            "tf.Tensor([[-0.01263285]], shape=(1, 1), dtype=float32)\n",
            "tf.Tensor([[3.99381]], shape=(1, 1), dtype=float32)\n",
            "tf.Tensor([[-0.01238012]], shape=(1, 1), dtype=float32)\n",
            "tf.Tensor([[3.9939337]], shape=(1, 1), dtype=float32)\n",
            "tf.Tensor([[-0.01213264]], shape=(1, 1), dtype=float32)\n",
            "tf.Tensor([[3.994055]], shape=(1, 1), dtype=float32)\n",
            "tf.Tensor([[-0.01188993]], shape=(1, 1), dtype=float32)\n",
            "tf.Tensor([[3.994174]], shape=(1, 1), dtype=float32)\n",
            "tf.Tensor([[-0.01165199]], shape=(1, 1), dtype=float32)\n",
            "tf.Tensor([[3.9942906]], shape=(1, 1), dtype=float32)\n",
            "tf.Tensor([[-0.01141882]], shape=(1, 1), dtype=float32)\n",
            "tf.Tensor([[3.9944048]], shape=(1, 1), dtype=float32)\n",
            "tf.Tensor([[-0.01119041]], shape=(1, 1), dtype=float32)\n",
            "tf.Tensor([[3.9945166]], shape=(1, 1), dtype=float32)\n",
            "tf.Tensor([[-0.01096678]], shape=(1, 1), dtype=float32)\n",
            "tf.Tensor([[3.9946263]], shape=(1, 1), dtype=float32)\n",
            "tf.Tensor([[-0.01074743]], shape=(1, 1), dtype=float32)\n",
            "tf.Tensor([[3.9947338]], shape=(1, 1), dtype=float32)\n",
            "tf.Tensor([[-0.01053238]], shape=(1, 1), dtype=float32)\n",
            "tf.Tensor([[3.9948392]], shape=(1, 1), dtype=float32)\n",
            "tf.Tensor([[-0.01032162]], shape=(1, 1), dtype=float32)\n",
            "tf.Tensor([[3.9949424]], shape=(1, 1), dtype=float32)\n",
            "tf.Tensor([[-0.01011515]], shape=(1, 1), dtype=float32)\n",
            "tf.Tensor([[3.9950435]], shape=(1, 1), dtype=float32)\n",
            "tf.Tensor([[-0.00991297]], shape=(1, 1), dtype=float32)\n",
            "tf.Tensor([[3.9951427]], shape=(1, 1), dtype=float32)\n",
            "tf.Tensor([[-0.0097146]], shape=(1, 1), dtype=float32)\n",
            "tf.Tensor([[3.9952397]], shape=(1, 1), dtype=float32)\n",
            "tf.Tensor([[-0.00952053]], shape=(1, 1), dtype=float32)\n",
            "tf.Tensor([[3.9953349]], shape=(1, 1), dtype=float32)\n",
            "tf.Tensor([[-0.00933027]], shape=(1, 1), dtype=float32)\n",
            "tf.Tensor([[3.995428]], shape=(1, 1), dtype=float32)\n",
            "tf.Tensor([[-0.00914383]], shape=(1, 1), dtype=float32)\n",
            "tf.Tensor([[3.9955196]], shape=(1, 1), dtype=float32)\n",
            "tf.Tensor([[-0.00896072]], shape=(1, 1), dtype=float32)\n",
            "tf.Tensor([[3.9956093]], shape=(1, 1), dtype=float32)\n",
            "tf.Tensor([[-0.00878143]], shape=(1, 1), dtype=float32)\n",
            "tf.Tensor([[3.995697]], shape=(1, 1), dtype=float32)\n",
            "tf.Tensor([[-0.00860596]], shape=(1, 1), dtype=float32)\n",
            "tf.Tensor([[3.995783]], shape=(1, 1), dtype=float32)\n",
            "tf.Tensor([[-0.00843382]], shape=(1, 1), dtype=float32)\n",
            "tf.Tensor([[3.9958675]], shape=(1, 1), dtype=float32)\n",
            "tf.Tensor([[-0.00826502]], shape=(1, 1), dtype=float32)\n",
            "tf.Tensor([[3.9959502]], shape=(1, 1), dtype=float32)\n",
            "tf.Tensor([[-0.00809956]], shape=(1, 1), dtype=float32)\n",
            "tf.Tensor([[3.9960313]], shape=(1, 1), dtype=float32)\n",
            "tf.Tensor([[-0.00793743]], shape=(1, 1), dtype=float32)\n",
            "tf.Tensor([[3.9961107]], shape=(1, 1), dtype=float32)\n",
            "tf.Tensor([[-0.00777864]], shape=(1, 1), dtype=float32)\n",
            "tf.Tensor([[3.9961884]], shape=(1, 1), dtype=float32)\n",
            "tf.Tensor([[-0.0076232]], shape=(1, 1), dtype=float32)\n",
            "tf.Tensor([[3.9962647]], shape=(1, 1), dtype=float32)\n",
            "tf.Tensor([[-0.00747061]], shape=(1, 1), dtype=float32)\n",
            "tf.Tensor([[3.9963393]], shape=(1, 1), dtype=float32)\n",
            "tf.Tensor([[-0.00732136]], shape=(1, 1), dtype=float32)\n",
            "tf.Tensor([[3.9964125]], shape=(1, 1), dtype=float32)\n",
            "tf.Tensor([[-0.00717497]], shape=(1, 1), dtype=float32)\n",
            "tf.Tensor([[3.9964843]], shape=(1, 1), dtype=float32)\n",
            "tf.Tensor([[-0.00703144]], shape=(1, 1), dtype=float32)\n",
            "tf.Tensor([[3.9965546]], shape=(1, 1), dtype=float32)\n",
            "tf.Tensor([[-0.00689077]], shape=(1, 1), dtype=float32)\n",
            "tf.Tensor([[3.9966235]], shape=(1, 1), dtype=float32)\n",
            "tf.Tensor([[-0.00675297]], shape=(1, 1), dtype=float32)\n",
            "tf.Tensor([[3.996691]], shape=(1, 1), dtype=float32)\n",
            "tf.Tensor([[-0.00661802]], shape=(1, 1), dtype=float32)\n",
            "tf.Tensor([[3.9967573]], shape=(1, 1), dtype=float32)\n",
            "tf.Tensor([[-0.00648546]], shape=(1, 1), dtype=float32)\n",
            "tf.Tensor([[3.996822]], shape=(1, 1), dtype=float32)\n",
            "tf.Tensor([[-0.00635576]], shape=(1, 1), dtype=float32)\n",
            "tf.Tensor([[3.9968858]], shape=(1, 1), dtype=float32)\n",
            "tf.Tensor([[-0.00622845]], shape=(1, 1), dtype=float32)\n",
            "tf.Tensor([[3.996948]], shape=(1, 1), dtype=float32)\n",
            "tf.Tensor([[-0.00610399]], shape=(1, 1), dtype=float32)\n",
            "tf.Tensor([[3.997009]], shape=(1, 1), dtype=float32)\n",
            "tf.Tensor([[-0.00598192]], shape=(1, 1), dtype=float32)\n",
            "tf.Tensor([[3.997069]], shape=(1, 1), dtype=float32)\n",
            "tf.Tensor([[-0.00586224]], shape=(1, 1), dtype=float32)\n",
            "tf.Tensor([[3.9971275]], shape=(1, 1), dtype=float32)\n",
            "tf.Tensor([[-0.00574493]], shape=(1, 1), dtype=float32)\n",
            "tf.Tensor([[3.997185]], shape=(1, 1), dtype=float32)\n",
            "tf.Tensor([[-0.00563002]], shape=(1, 1), dtype=float32)\n",
            "tf.Tensor([[3.9972413]], shape=(1, 1), dtype=float32)\n",
            "tf.Tensor([[-0.00551748]], shape=(1, 1), dtype=float32)\n",
            "tf.Tensor([[3.9972963]], shape=(1, 1), dtype=float32)\n",
            "tf.Tensor([[-0.00540733]], shape=(1, 1), dtype=float32)\n",
            "tf.Tensor([[3.9973505]], shape=(1, 1), dtype=float32)\n",
            "tf.Tensor([[-0.00529909]], shape=(1, 1), dtype=float32)\n",
            "tf.Tensor([[3.9974034]], shape=(1, 1), dtype=float32)\n",
            "tf.Tensor([[-0.00519323]], shape=(1, 1), dtype=float32)\n",
            "tf.Tensor([[3.9974554]], shape=(1, 1), dtype=float32)\n",
            "tf.Tensor([[-0.00508928]], shape=(1, 1), dtype=float32)\n",
            "tf.Tensor([[3.9975061]], shape=(1, 1), dtype=float32)\n",
            "tf.Tensor([[-0.00498772]], shape=(1, 1), dtype=float32)\n",
            "tf.Tensor([[3.997556]], shape=(1, 1), dtype=float32)\n",
            "tf.Tensor([[-0.00488806]], shape=(1, 1), dtype=float32)\n",
            "tf.Tensor([[3.9976048]], shape=(1, 1), dtype=float32)\n",
            "tf.Tensor([[-0.00479031]], shape=(1, 1), dtype=float32)\n",
            "tf.Tensor([[3.9976528]], shape=(1, 1), dtype=float32)\n",
            "tf.Tensor([[-0.00469446]], shape=(1, 1), dtype=float32)\n",
            "tf.Tensor([[3.9976997]], shape=(1, 1), dtype=float32)\n",
            "tf.Tensor([[-0.00460052]], shape=(1, 1), dtype=float32)\n",
            "tf.Tensor([[3.9977458]], shape=(1, 1), dtype=float32)\n",
            "tf.Tensor([[-0.0045085]], shape=(1, 1), dtype=float32)\n",
            "tf.Tensor([[3.9977908]], shape=(1, 1), dtype=float32)\n",
            "tf.Tensor([[-0.00441837]], shape=(1, 1), dtype=float32)\n",
            "tf.Tensor([[3.997835]], shape=(1, 1), dtype=float32)\n",
            "tf.Tensor([[-0.00433016]], shape=(1, 1), dtype=float32)\n",
            "tf.Tensor([[3.9978783]], shape=(1, 1), dtype=float32)\n",
            "tf.Tensor([[-0.00424337]], shape=(1, 1), dtype=float32)\n",
            "tf.Tensor([[3.9979208]], shape=(1, 1), dtype=float32)\n",
            "tf.Tensor([[-0.0041585]], shape=(1, 1), dtype=float32)\n",
            "tf.Tensor([[3.9979622]], shape=(1, 1), dtype=float32)\n",
            "tf.Tensor([[-0.00407553]], shape=(1, 1), dtype=float32)\n",
            "tf.Tensor([[3.998003]], shape=(1, 1), dtype=float32)\n",
            "tf.Tensor([[-0.00399399]], shape=(1, 1), dtype=float32)\n",
            "tf.Tensor([[3.998043]], shape=(1, 1), dtype=float32)\n",
            "tf.Tensor([[-0.00391388]], shape=(1, 1), dtype=float32)\n",
            "tf.Tensor([[3.9980822]], shape=(1, 1), dtype=float32)\n",
            "tf.Tensor([[-0.00383568]], shape=(1, 1), dtype=float32)\n",
            "tf.Tensor([[3.9981205]], shape=(1, 1), dtype=float32)\n",
            "tf.Tensor([[-0.00375891]], shape=(1, 1), dtype=float32)\n",
            "tf.Tensor([[3.9981582]], shape=(1, 1), dtype=float32)\n",
            "tf.Tensor([[-0.00368357]], shape=(1, 1), dtype=float32)\n",
            "tf.Tensor([[3.9981952]], shape=(1, 1), dtype=float32)\n",
            "tf.Tensor([[-0.00360966]], shape=(1, 1), dtype=float32)\n",
            "tf.Tensor([[3.9982312]], shape=(1, 1), dtype=float32)\n",
            "tf.Tensor([[-0.00353765]], shape=(1, 1), dtype=float32)\n",
            "tf.Tensor([[3.9982665]], shape=(1, 1), dtype=float32)\n",
            "tf.Tensor([[-0.00346708]], shape=(1, 1), dtype=float32)\n",
            "tf.Tensor([[3.998301]], shape=(1, 1), dtype=float32)\n",
            "tf.Tensor([[-0.00339794]], shape=(1, 1), dtype=float32)\n",
            "tf.Tensor([[3.9983351]], shape=(1, 1), dtype=float32)\n",
            "tf.Tensor([[-0.00332975]], shape=(1, 1), dtype=float32)\n",
            "tf.Tensor([[3.9983685]], shape=(1, 1), dtype=float32)\n",
            "tf.Tensor([[-0.003263]], shape=(1, 1), dtype=float32)\n",
            "tf.Tensor([[3.9984012]], shape=(1, 1), dtype=float32)\n",
            "tf.Tensor([[-0.00319767]], shape=(1, 1), dtype=float32)\n",
            "tf.Tensor([[3.998433]], shape=(1, 1), dtype=float32)\n",
            "tf.Tensor([[-0.00313377]], shape=(1, 1), dtype=float32)\n",
            "tf.Tensor([[3.9984643]], shape=(1, 1), dtype=float32)\n",
            "tf.Tensor([[-0.00307131]], shape=(1, 1), dtype=float32)\n",
            "tf.Tensor([[3.998495]], shape=(1, 1), dtype=float32)\n",
            "tf.Tensor([[-0.0030098]], shape=(1, 1), dtype=float32)\n",
            "tf.Tensor([[3.9985251]], shape=(1, 1), dtype=float32)\n",
            "tf.Tensor([[-0.00294971]], shape=(1, 1), dtype=float32)\n",
            "tf.Tensor([[3.9985547]], shape=(1, 1), dtype=float32)\n",
            "tf.Tensor([[-0.00289059]], shape=(1, 1), dtype=float32)\n",
            "tf.Tensor([[3.9985836]], shape=(1, 1), dtype=float32)\n",
            "tf.Tensor([[-0.00283289]], shape=(1, 1), dtype=float32)\n",
            "tf.Tensor([[3.998612]], shape=(1, 1), dtype=float32)\n",
            "tf.Tensor([[-0.00277615]], shape=(1, 1), dtype=float32)\n",
            "tf.Tensor([[3.9986396]], shape=(1, 1), dtype=float32)\n",
            "tf.Tensor([[-0.00272083]], shape=(1, 1), dtype=float32)\n",
            "tf.Tensor([[3.9986668]], shape=(1, 1), dtype=float32)\n",
            "tf.Tensor([[-0.00266647]], shape=(1, 1), dtype=float32)\n",
            "tf.Tensor([[3.9986935]], shape=(1, 1), dtype=float32)\n",
            "tf.Tensor([[-0.00261307]], shape=(1, 1), dtype=float32)\n",
            "tf.Tensor([[3.9987197]], shape=(1, 1), dtype=float32)\n",
            "tf.Tensor([[-0.00256062]], shape=(1, 1), dtype=float32)\n",
            "tf.Tensor([[3.9987452]], shape=(1, 1), dtype=float32)\n",
            "tf.Tensor([[-0.00250959]], shape=(1, 1), dtype=float32)\n",
            "tf.Tensor([[3.9987702]], shape=(1, 1), dtype=float32)\n",
            "tf.Tensor([[-0.00245953]], shape=(1, 1), dtype=float32)\n",
            "tf.Tensor([[3.9987948]], shape=(1, 1), dtype=float32)\n",
            "tf.Tensor([[-0.00241041]], shape=(1, 1), dtype=float32)\n",
            "tf.Tensor([[3.9988189]], shape=(1, 1), dtype=float32)\n",
            "tf.Tensor([[-0.00236225]], shape=(1, 1), dtype=float32)\n",
            "tf.Tensor([[3.9988425]], shape=(1, 1), dtype=float32)\n",
            "tf.Tensor([[-0.00231504]], shape=(1, 1), dtype=float32)\n",
            "tf.Tensor([[3.9988656]], shape=(1, 1), dtype=float32)\n",
            "tf.Tensor([[-0.00226879]], shape=(1, 1), dtype=float32)\n",
            "tf.Tensor([[3.9988883]], shape=(1, 1), dtype=float32)\n",
            "tf.Tensor([[-0.00222349]], shape=(1, 1), dtype=float32)\n",
            "tf.Tensor([[3.9989104]], shape=(1, 1), dtype=float32)\n",
            "tf.Tensor([[-0.00217915]], shape=(1, 1), dtype=float32)\n",
            "tf.Tensor([[3.9989321]], shape=(1, 1), dtype=float32)\n",
            "tf.Tensor([[-0.00213575]], shape=(1, 1), dtype=float32)\n",
            "tf.Tensor([[3.9989536]], shape=(1, 1), dtype=float32)\n",
            "tf.Tensor([[-0.00209284]], shape=(1, 1), dtype=float32)\n",
            "tf.Tensor([[3.9989746]], shape=(1, 1), dtype=float32)\n",
            "tf.Tensor([[-0.00205088]], shape=(1, 1), dtype=float32)\n",
            "tf.Tensor([[3.998995]], shape=(1, 1), dtype=float32)\n",
            "tf.Tensor([[-0.00200987]], shape=(1, 1), dtype=float32)\n",
            "tf.Tensor([[3.999015]], shape=(1, 1), dtype=float32)\n",
            "tf.Tensor([[-0.00196981]], shape=(1, 1), dtype=float32)\n",
            "tf.Tensor([[3.999035]], shape=(1, 1), dtype=float32)\n",
            "tf.Tensor([[-0.00193024]], shape=(1, 1), dtype=float32)\n",
            "tf.Tensor([[3.9990542]], shape=(1, 1), dtype=float32)\n",
            "tf.Tensor([[-0.00189161]], shape=(1, 1), dtype=float32)\n",
            "tf.Tensor([[3.999073]], shape=(1, 1), dtype=float32)\n",
            "tf.Tensor([[-0.00185394]], shape=(1, 1), dtype=float32)\n",
            "tf.Tensor([[3.9990916]], shape=(1, 1), dtype=float32)\n",
            "tf.Tensor([[-0.00181675]], shape=(1, 1), dtype=float32)\n",
            "tf.Tensor([[3.9991097]], shape=(1, 1), dtype=float32)\n",
            "tf.Tensor([[-0.00178051]], shape=(1, 1), dtype=float32)\n",
            "tf.Tensor([[3.9991276]], shape=(1, 1), dtype=float32)\n",
            "tf.Tensor([[-0.00174475]], shape=(1, 1), dtype=float32)\n",
            "tf.Tensor([[3.999145]], shape=(1, 1), dtype=float32)\n",
            "tf.Tensor([[-0.00170994]], shape=(1, 1), dtype=float32)\n",
            "tf.Tensor([[3.9991622]], shape=(1, 1), dtype=float32)\n",
            "tf.Tensor([[-0.00167561]], shape=(1, 1), dtype=float32)\n",
            "tf.Tensor([[3.999179]], shape=(1, 1), dtype=float32)\n",
            "tf.Tensor([[-0.00164223]], shape=(1, 1), dtype=float32)\n",
            "tf.Tensor([[3.9991953]], shape=(1, 1), dtype=float32)\n",
            "tf.Tensor([[-0.00160933]], shape=(1, 1), dtype=float32)\n",
            "tf.Tensor([[3.9992113]], shape=(1, 1), dtype=float32)\n",
            "tf.Tensor([[-0.00157738]], shape=(1, 1), dtype=float32)\n",
            "tf.Tensor([[3.999227]], shape=(1, 1), dtype=float32)\n",
            "tf.Tensor([[-0.00154591]], shape=(1, 1), dtype=float32)\n",
            "tf.Tensor([[3.9992425]], shape=(1, 1), dtype=float32)\n",
            "tf.Tensor([[-0.00151491]], shape=(1, 1), dtype=float32)\n",
            "tf.Tensor([[3.9992578]], shape=(1, 1), dtype=float32)\n",
            "tf.Tensor([[-0.00148439]], shape=(1, 1), dtype=float32)\n",
            "tf.Tensor([[3.9992726]], shape=(1, 1), dtype=float32)\n",
            "tf.Tensor([[-0.00145483]], shape=(1, 1), dtype=float32)\n",
            "tf.Tensor([[3.9992871]], shape=(1, 1), dtype=float32)\n",
            "tf.Tensor([[-0.00142574]], shape=(1, 1), dtype=float32)\n",
            "tf.Tensor([[3.9993014]], shape=(1, 1), dtype=float32)\n",
            "tf.Tensor([[-0.00139713]], shape=(1, 1), dtype=float32)\n",
            "tf.Tensor([[3.9993155]], shape=(1, 1), dtype=float32)\n",
            "tf.Tensor([[-0.001369]], shape=(1, 1), dtype=float32)\n",
            "tf.Tensor([[3.999329]], shape=(1, 1), dtype=float32)\n",
            "tf.Tensor([[-0.00134182]], shape=(1, 1), dtype=float32)\n",
            "tf.Tensor([[3.9993424]], shape=(1, 1), dtype=float32)\n",
            "tf.Tensor([[-0.00131512]], shape=(1, 1), dtype=float32)\n",
            "tf.Tensor([[3.9993556]], shape=(1, 1), dtype=float32)\n",
            "tf.Tensor([[-0.00128889]], shape=(1, 1), dtype=float32)\n",
            "tf.Tensor([[3.9993684]], shape=(1, 1), dtype=float32)\n",
            "tf.Tensor([[-0.00126314]], shape=(1, 1), dtype=float32)\n",
            "tf.Tensor([[3.999381]], shape=(1, 1), dtype=float32)\n",
            "tf.Tensor([[-0.00123787]], shape=(1, 1), dtype=float32)\n",
            "tf.Tensor([[3.9993935]], shape=(1, 1), dtype=float32)\n",
            "tf.Tensor([[-0.00121307]], shape=(1, 1), dtype=float32)\n",
            "tf.Tensor([[3.9994056]], shape=(1, 1), dtype=float32)\n",
            "tf.Tensor([[-0.00118876]], shape=(1, 1), dtype=float32)\n",
            "tf.Tensor([[3.9994175]], shape=(1, 1), dtype=float32)\n",
            "tf.Tensor([[-0.00116491]], shape=(1, 1), dtype=float32)\n",
            "tf.Tensor([[3.9994292]], shape=(1, 1), dtype=float32)\n",
            "tf.Tensor([[-0.00114155]], shape=(1, 1), dtype=float32)\n",
            "tf.Tensor([[3.9994407]], shape=(1, 1), dtype=float32)\n",
            "tf.Tensor([[-0.00111866]], shape=(1, 1), dtype=float32)\n",
            "tf.Tensor([[3.9994519]], shape=(1, 1), dtype=float32)\n",
            "tf.Tensor([[-0.00109625]], shape=(1, 1), dtype=float32)\n",
            "tf.Tensor([[3.9994628]], shape=(1, 1), dtype=float32)\n",
            "tf.Tensor([[-0.00107431]], shape=(1, 1), dtype=float32)\n",
            "tf.Tensor([[3.9994736]], shape=(1, 1), dtype=float32)\n",
            "tf.Tensor([[-0.00105286]], shape=(1, 1), dtype=float32)\n",
            "tf.Tensor([[3.999484]], shape=(1, 1), dtype=float32)\n",
            "tf.Tensor([[-0.00103188]], shape=(1, 1), dtype=float32)\n",
            "tf.Tensor([[3.9994943]], shape=(1, 1), dtype=float32)\n",
            "tf.Tensor([[-0.00101137]], shape=(1, 1), dtype=float32)\n",
            "tf.Tensor([[3.9995043]], shape=(1, 1), dtype=float32)\n",
            "tf.Tensor([[-0.00099134]], shape=(1, 1), dtype=float32)\n",
            "tf.Tensor([[3.9995143]], shape=(1, 1), dtype=float32)\n",
            "tf.Tensor([[-0.00097132]], shape=(1, 1), dtype=float32)\n",
            "tf.Tensor([[3.999524]], shape=(1, 1), dtype=float32)\n",
            "tf.Tensor([[-0.00095177]], shape=(1, 1), dtype=float32)\n",
            "tf.Tensor([[3.9995337]], shape=(1, 1), dtype=float32)\n",
            "tf.Tensor([[-0.00093269]], shape=(1, 1), dtype=float32)\n",
            "tf.Tensor([[3.999543]], shape=(1, 1), dtype=float32)\n",
            "tf.Tensor([[-0.0009141]], shape=(1, 1), dtype=float32)\n",
            "tf.Tensor([[3.999552]], shape=(1, 1), dtype=float32)\n",
            "tf.Tensor([[-0.00089598]], shape=(1, 1), dtype=float32)\n",
            "tf.Tensor([[3.999561]], shape=(1, 1), dtype=float32)\n",
            "tf.Tensor([[-0.00087786]], shape=(1, 1), dtype=float32)\n",
            "tf.Tensor([[3.99957]], shape=(1, 1), dtype=float32)\n",
            "tf.Tensor([[-0.00086021]], shape=(1, 1), dtype=float32)\n",
            "tf.Tensor([[3.9995785]], shape=(1, 1), dtype=float32)\n",
            "tf.Tensor([[-0.00084305]], shape=(1, 1), dtype=float32)\n",
            "tf.Tensor([[3.9995868]], shape=(1, 1), dtype=float32)\n",
            "tf.Tensor([[-0.00082636]], shape=(1, 1), dtype=float32)\n",
            "tf.Tensor([[3.9995952]], shape=(1, 1), dtype=float32)\n",
            "tf.Tensor([[-0.00080967]], shape=(1, 1), dtype=float32)\n",
            "tf.Tensor([[3.9996033]], shape=(1, 1), dtype=float32)\n",
            "tf.Tensor([[-0.00079346]], shape=(1, 1), dtype=float32)\n",
            "tf.Tensor([[3.9996111]], shape=(1, 1), dtype=float32)\n",
            "tf.Tensor([[-0.00077772]], shape=(1, 1), dtype=float32)\n",
            "tf.Tensor([[3.999619]], shape=(1, 1), dtype=float32)\n",
            "tf.Tensor([[-0.00076199]], shape=(1, 1), dtype=float32)\n",
            "tf.Tensor([[3.9996266]], shape=(1, 1), dtype=float32)\n",
            "tf.Tensor([[-0.00074673]], shape=(1, 1), dtype=float32)\n",
            "tf.Tensor([[3.999634]], shape=(1, 1), dtype=float32)\n",
            "tf.Tensor([[-0.00073195]], shape=(1, 1), dtype=float32)\n",
            "tf.Tensor([[3.9996414]], shape=(1, 1), dtype=float32)\n",
            "tf.Tensor([[-0.00071716]], shape=(1, 1), dtype=float32)\n",
            "tf.Tensor([[3.9996486]], shape=(1, 1), dtype=float32)\n",
            "tf.Tensor([[-0.00070286]], shape=(1, 1), dtype=float32)\n",
            "tf.Tensor([[3.9996555]], shape=(1, 1), dtype=float32)\n",
            "tf.Tensor([[-0.00068903]], shape=(1, 1), dtype=float32)\n",
            "tf.Tensor([[3.9996624]], shape=(1, 1), dtype=float32)\n",
            "tf.Tensor([[-0.0006752]], shape=(1, 1), dtype=float32)\n",
            "tf.Tensor([[3.999669]], shape=(1, 1), dtype=float32)\n",
            "tf.Tensor([[-0.00066185]], shape=(1, 1), dtype=float32)\n",
            "tf.Tensor([[3.9996758]], shape=(1, 1), dtype=float32)\n",
            "tf.Tensor([[-0.0006485]], shape=(1, 1), dtype=float32)\n",
            "tf.Tensor([[3.9996822]], shape=(1, 1), dtype=float32)\n",
            "tf.Tensor([[-0.00063562]], shape=(1, 1), dtype=float32)\n",
            "tf.Tensor([[3.9996886]], shape=(1, 1), dtype=float32)\n",
            "tf.Tensor([[-0.00062275]], shape=(1, 1), dtype=float32)\n",
            "tf.Tensor([[3.9996948]], shape=(1, 1), dtype=float32)\n",
            "tf.Tensor([[-0.00061035]], shape=(1, 1), dtype=float32)\n",
            "tf.Tensor([[3.999701]], shape=(1, 1), dtype=float32)\n",
            "tf.Tensor([[-0.00059795]], shape=(1, 1), dtype=float32)\n",
            "tf.Tensor([[3.999707]], shape=(1, 1), dtype=float32)\n",
            "tf.Tensor([[-0.00058603]], shape=(1, 1), dtype=float32)\n",
            "tf.Tensor([[3.999713]], shape=(1, 1), dtype=float32)\n",
            "tf.Tensor([[-0.00057411]], shape=(1, 1), dtype=float32)\n",
            "tf.Tensor([[3.9997187]], shape=(1, 1), dtype=float32)\n",
            "tf.Tensor([[-0.00056267]], shape=(1, 1), dtype=float32)\n",
            "tf.Tensor([[3.9997244]], shape=(1, 1), dtype=float32)\n",
            "tf.Tensor([[-0.00055122]], shape=(1, 1), dtype=float32)\n",
            "tf.Tensor([[3.9997299]], shape=(1, 1), dtype=float32)\n",
            "tf.Tensor([[-0.00054026]], shape=(1, 1), dtype=float32)\n",
            "tf.Tensor([[3.9997354]], shape=(1, 1), dtype=float32)\n",
            "tf.Tensor([[-0.00052929]], shape=(1, 1), dtype=float32)\n",
            "tf.Tensor([[3.9997406]], shape=(1, 1), dtype=float32)\n",
            "tf.Tensor([[-0.0005188]], shape=(1, 1), dtype=float32)\n",
            "tf.Tensor([[3.9997458]], shape=(1, 1), dtype=float32)\n",
            "tf.Tensor([[-0.00050831]], shape=(1, 1), dtype=float32)\n",
            "tf.Tensor([[3.9997509]], shape=(1, 1), dtype=float32)\n",
            "tf.Tensor([[-0.00049829]], shape=(1, 1), dtype=float32)\n",
            "tf.Tensor([[3.9997559]], shape=(1, 1), dtype=float32)\n",
            "tf.Tensor([[-0.00048828]], shape=(1, 1), dtype=float32)\n",
            "tf.Tensor([[3.9997606]], shape=(1, 1), dtype=float32)\n",
            "tf.Tensor([[-0.00047874]], shape=(1, 1), dtype=float32)\n",
            "tf.Tensor([[3.9997654]], shape=(1, 1), dtype=float32)\n",
            "tf.Tensor([[-0.00046921]], shape=(1, 1), dtype=float32)\n",
            "tf.Tensor([[3.9997702]], shape=(1, 1), dtype=float32)\n",
            "tf.Tensor([[-0.00045967]], shape=(1, 1), dtype=float32)\n",
            "tf.Tensor([[3.9997747]], shape=(1, 1), dtype=float32)\n",
            "tf.Tensor([[-0.00045061]], shape=(1, 1), dtype=float32)\n",
            "tf.Tensor([[3.9997792]], shape=(1, 1), dtype=float32)\n",
            "tf.Tensor([[-0.00044155]], shape=(1, 1), dtype=float32)\n",
            "tf.Tensor([[3.9997838]], shape=(1, 1), dtype=float32)\n",
            "tf.Tensor([[-0.00043249]], shape=(1, 1), dtype=float32)\n",
            "tf.Tensor([[3.999788]], shape=(1, 1), dtype=float32)\n",
            "tf.Tensor([[-0.00042391]], shape=(1, 1), dtype=float32)\n",
            "tf.Tensor([[3.9997923]], shape=(1, 1), dtype=float32)\n",
            "tf.Tensor([[-0.00041533]], shape=(1, 1), dtype=float32)\n",
            "tf.Tensor([[3.9997964]], shape=(1, 1), dtype=float32)\n",
            "tf.Tensor([[-0.00040722]], shape=(1, 1), dtype=float32)\n",
            "tf.Tensor([[3.9998004]], shape=(1, 1), dtype=float32)\n",
            "tf.Tensor([[-0.00039911]], shape=(1, 1), dtype=float32)\n",
            "tf.Tensor([[3.9998045]], shape=(1, 1), dtype=float32)\n",
            "tf.Tensor([[-0.00039101]], shape=(1, 1), dtype=float32)\n",
            "tf.Tensor([[3.9998083]], shape=(1, 1), dtype=float32)\n",
            "tf.Tensor([[-0.00038338]], shape=(1, 1), dtype=float32)\n",
            "tf.Tensor([[3.9998121]], shape=(1, 1), dtype=float32)\n",
            "tf.Tensor([[-0.00037575]], shape=(1, 1), dtype=float32)\n",
            "tf.Tensor([[3.999816]], shape=(1, 1), dtype=float32)\n",
            "tf.Tensor([[-0.00036812]], shape=(1, 1), dtype=float32)\n",
            "tf.Tensor([[3.9998195]], shape=(1, 1), dtype=float32)\n"
          ]
        },
        {
          "output_type": "execute_result",
          "data": {
            "text/plain": [
              "Text(0, 0.5, 'x value')"
            ]
          },
          "metadata": {},
          "execution_count": 44
        },
        {
          "output_type": "display_data",
          "data": {
            "text/plain": [
              "<Figure size 640x480 with 1 Axes>"
            ],
            "image/png": "[encoded data removed]"
          },
          "metadata": {}
        }
      ]
    },
    {
      "cell_type": "markdown",
      "metadata": {
        "id": "pC7czCwk3ceH"
      },
      "source": [
        "`GradientTape` provides an extremely flexible framework for automatic differentiation. In order to back propagate errors through a neural network, we track forward passes on the Tape, use this information to determine the gradients, and then use these gradients for optimization using SGD."
      ]
    }
  ]
}